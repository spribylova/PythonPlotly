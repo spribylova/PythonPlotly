{
  "nbformat": 4,
  "nbformat_minor": 0,
  "metadata": {
    "colab": {
      "provenance": [],
      "collapsed_sections": []
    },
    "kernelspec": {
      "name": "python3",
      "display_name": "Python 3"
    },
    "language_info": {
      "name": "python"
    }
  },
  "cells": [
    {
      "cell_type": "code",
      "source": [
        "pip install chart_studio"
      ],
      "metadata": {
        "colab": {
          "base_uri": "https://localhost:8080/"
        },
        "id": "Zwj-QBCAOTvK",
        "outputId": "3150024d-8fe0-467d-d2d8-3f22dfe0ea77"
      },
      "execution_count": 1,
      "outputs": [
        {
          "output_type": "stream",
          "name": "stdout",
          "text": [
            "Looking in indexes: https://pypi.org/simple, https://us-python.pkg.dev/colab-wheels/public/simple/\n",
            "Collecting chart_studio\n",
            "  Downloading chart_studio-1.1.0-py3-none-any.whl (64 kB)\n",
            "\u001b[K     |████████████████████████████████| 64 kB 2.0 MB/s \n",
            "\u001b[?25hRequirement already satisfied: six in /usr/local/lib/python3.7/dist-packages (from chart_studio) (1.15.0)\n",
            "Requirement already satisfied: requests in /usr/local/lib/python3.7/dist-packages (from chart_studio) (2.23.0)\n",
            "Collecting retrying>=1.3.3\n",
            "  Downloading retrying-1.3.3.tar.gz (10 kB)\n",
            "Requirement already satisfied: plotly in /usr/local/lib/python3.7/dist-packages (from chart_studio) (5.5.0)\n",
            "Requirement already satisfied: tenacity>=6.2.0 in /usr/local/lib/python3.7/dist-packages (from plotly->chart_studio) (8.1.0)\n",
            "Requirement already satisfied: urllib3!=1.25.0,!=1.25.1,<1.26,>=1.21.1 in /usr/local/lib/python3.7/dist-packages (from requests->chart_studio) (1.24.3)\n",
            "Requirement already satisfied: certifi>=2017.4.17 in /usr/local/lib/python3.7/dist-packages (from requests->chart_studio) (2022.9.24)\n",
            "Requirement already satisfied: chardet<4,>=3.0.2 in /usr/local/lib/python3.7/dist-packages (from requests->chart_studio) (3.0.4)\n",
            "Requirement already satisfied: idna<3,>=2.5 in /usr/local/lib/python3.7/dist-packages (from requests->chart_studio) (2.10)\n",
            "Building wheels for collected packages: retrying\n",
            "  Building wheel for retrying (setup.py) ... \u001b[?25l\u001b[?25hdone\n",
            "  Created wheel for retrying: filename=retrying-1.3.3-py3-none-any.whl size=11447 sha256=0ca0056387e61ab323c64df1992a668bb8305e2fe126b20e8e79e258c959ea44\n",
            "  Stored in directory: /root/.cache/pip/wheels/f9/8d/8d/f6af3f7f9eea3553bc2fe6d53e4b287dad18b06a861ac56ddf\n",
            "Successfully built retrying\n",
            "Installing collected packages: retrying, chart-studio\n",
            "Successfully installed chart-studio-1.1.0 retrying-1.3.3\n"
          ]
        }
      ]
    },
    {
      "cell_type": "code",
      "source": [
        "import chart_studio"
      ],
      "metadata": {
        "id": "FleK8Q3BOZRw"
      },
      "execution_count": 2,
      "outputs": []
    },
    {
      "cell_type": "code",
      "execution_count": 3,
      "metadata": {
        "id": "9eQpRdVWNvn6"
      },
      "outputs": [],
      "source": [
        "import seaborn as sns\n",
        "import pandas as pd\n",
        "import plotly.graph_objects as go\n",
        "import chart_studio.plotly as py\n",
        "import plotly\n",
        "import json, urllib\n",
        "import numpy as np"
      ]
    },
    {
      "cell_type": "code",
      "source": [
        "# raw data: https://gist.github.com/nicolasesnis/eb3b35545e97926ab53e0617c5e4b639\n",
        "\n",
        "data = pd.read_csv('raw.csv')[['user_id', 'time_install', 'event_name', 'time_event']]\n",
        "\n",
        "# there are 4 columns in the original data frame:\n",
        "# user_id (string): unique identifier of a user who installed the Mobile Application\n",
        "# time_install (datetime): the time when the user installed the Mobile Application (1 time_install per user_id)\n",
        "# event_name (string): the name of a specific in-app event (more event_name per user_id) \n",
        "# 3 unique values available: purchase, signup, reopen\n",
        "# time_event (datetime): the time of each event (1 time_event per user_id)\n",
        "\n",
        "data.head(10)"
      ],
      "metadata": {
        "id": "fvRRaqU_OH2n",
        "colab": {
          "base_uri": "https://localhost:8080/",
          "height": 359
        },
        "outputId": "716b0982-e328-4278-d158-fb2f7eeb829c"
      },
      "execution_count": 18,
      "outputs": [
        {
          "output_type": "execute_result",
          "data": {
            "text/plain": [
              "                                    user_id  time_install event_name  \\\n",
              "0  4c6065c9466bc68e324e316edfb0227ff7cccc6c  43892.978137   purchase   \n",
              "1  f3049eac4788ffd4482390f8333d7e1adbf4c5a1  43896.220370     signup   \n",
              "2  f3049eac4788ffd4482390f8333d7e1adbf4c5a1  43896.220370   purchase   \n",
              "3  9c1e35e89a374207409ad05da6d69d43f427c5f2  43896.788056     reopen   \n",
              "4  723fba1295b9a7c8321bbc433f87629b90660582  43892.000046     reopen   \n",
              "5  723fba1295b9a7c8321bbc433f87629b90660582  43892.000046     signup   \n",
              "6  97963ab19ae86316d639e3a181a156c6c9dd5be0  43892.910023   purchase   \n",
              "7  97963ab19ae86316d639e3a181a156c6c9dd5be0  43892.910023     signup   \n",
              "8  97963ab19ae86316d639e3a181a156c6c9dd5be0  43892.910023   purchase   \n",
              "9  3f299029526b58c482521f7ad6fa907eca31063b  43894.194329   purchase   \n",
              "\n",
              "     time_event  \n",
              "0  43892.983808  \n",
              "1  43896.220799  \n",
              "2  43896.221887  \n",
              "3  43896.107708  \n",
              "4  43893.577488  \n",
              "5  43892.002523  \n",
              "6  43893.002616  \n",
              "7  43892.913715  \n",
              "8  43892.971169  \n",
              "9  43894.198067  "
            ],
            "text/html": [
              "\n",
              "  <div id=\"df-569e432a-0da7-4d34-8391-f35ab8e469ea\">\n",
              "    <div class=\"colab-df-container\">\n",
              "      <div>\n",
              "<style scoped>\n",
              "    .dataframe tbody tr th:only-of-type {\n",
              "        vertical-align: middle;\n",
              "    }\n",
              "\n",
              "    .dataframe tbody tr th {\n",
              "        vertical-align: top;\n",
              "    }\n",
              "\n",
              "    .dataframe thead th {\n",
              "        text-align: right;\n",
              "    }\n",
              "</style>\n",
              "<table border=\"1\" class=\"dataframe\">\n",
              "  <thead>\n",
              "    <tr style=\"text-align: right;\">\n",
              "      <th></th>\n",
              "      <th>user_id</th>\n",
              "      <th>time_install</th>\n",
              "      <th>event_name</th>\n",
              "      <th>time_event</th>\n",
              "    </tr>\n",
              "  </thead>\n",
              "  <tbody>\n",
              "    <tr>\n",
              "      <th>0</th>\n",
              "      <td>4c6065c9466bc68e324e316edfb0227ff7cccc6c</td>\n",
              "      <td>43892.978137</td>\n",
              "      <td>purchase</td>\n",
              "      <td>43892.983808</td>\n",
              "    </tr>\n",
              "    <tr>\n",
              "      <th>1</th>\n",
              "      <td>f3049eac4788ffd4482390f8333d7e1adbf4c5a1</td>\n",
              "      <td>43896.220370</td>\n",
              "      <td>signup</td>\n",
              "      <td>43896.220799</td>\n",
              "    </tr>\n",
              "    <tr>\n",
              "      <th>2</th>\n",
              "      <td>f3049eac4788ffd4482390f8333d7e1adbf4c5a1</td>\n",
              "      <td>43896.220370</td>\n",
              "      <td>purchase</td>\n",
              "      <td>43896.221887</td>\n",
              "    </tr>\n",
              "    <tr>\n",
              "      <th>3</th>\n",
              "      <td>9c1e35e89a374207409ad05da6d69d43f427c5f2</td>\n",
              "      <td>43896.788056</td>\n",
              "      <td>reopen</td>\n",
              "      <td>43896.107708</td>\n",
              "    </tr>\n",
              "    <tr>\n",
              "      <th>4</th>\n",
              "      <td>723fba1295b9a7c8321bbc433f87629b90660582</td>\n",
              "      <td>43892.000046</td>\n",
              "      <td>reopen</td>\n",
              "      <td>43893.577488</td>\n",
              "    </tr>\n",
              "    <tr>\n",
              "      <th>5</th>\n",
              "      <td>723fba1295b9a7c8321bbc433f87629b90660582</td>\n",
              "      <td>43892.000046</td>\n",
              "      <td>signup</td>\n",
              "      <td>43892.002523</td>\n",
              "    </tr>\n",
              "    <tr>\n",
              "      <th>6</th>\n",
              "      <td>97963ab19ae86316d639e3a181a156c6c9dd5be0</td>\n",
              "      <td>43892.910023</td>\n",
              "      <td>purchase</td>\n",
              "      <td>43893.002616</td>\n",
              "    </tr>\n",
              "    <tr>\n",
              "      <th>7</th>\n",
              "      <td>97963ab19ae86316d639e3a181a156c6c9dd5be0</td>\n",
              "      <td>43892.910023</td>\n",
              "      <td>signup</td>\n",
              "      <td>43892.913715</td>\n",
              "    </tr>\n",
              "    <tr>\n",
              "      <th>8</th>\n",
              "      <td>97963ab19ae86316d639e3a181a156c6c9dd5be0</td>\n",
              "      <td>43892.910023</td>\n",
              "      <td>purchase</td>\n",
              "      <td>43892.971169</td>\n",
              "    </tr>\n",
              "    <tr>\n",
              "      <th>9</th>\n",
              "      <td>3f299029526b58c482521f7ad6fa907eca31063b</td>\n",
              "      <td>43894.194329</td>\n",
              "      <td>purchase</td>\n",
              "      <td>43894.198067</td>\n",
              "    </tr>\n",
              "  </tbody>\n",
              "</table>\n",
              "</div>\n",
              "      <button class=\"colab-df-convert\" onclick=\"convertToInteractive('df-569e432a-0da7-4d34-8391-f35ab8e469ea')\"\n",
              "              title=\"Convert this dataframe to an interactive table.\"\n",
              "              style=\"display:none;\">\n",
              "        \n",
              "  <svg xmlns=\"http://www.w3.org/2000/svg\" height=\"24px\"viewBox=\"0 0 24 24\"\n",
              "       width=\"24px\">\n",
              "    <path d=\"M0 0h24v24H0V0z\" fill=\"none\"/>\n",
              "    <path d=\"M18.56 5.44l.94 2.06.94-2.06 2.06-.94-2.06-.94-.94-2.06-.94 2.06-2.06.94zm-11 1L8.5 8.5l.94-2.06 2.06-.94-2.06-.94L8.5 2.5l-.94 2.06-2.06.94zm10 10l.94 2.06.94-2.06 2.06-.94-2.06-.94-.94-2.06-.94 2.06-2.06.94z\"/><path d=\"M17.41 7.96l-1.37-1.37c-.4-.4-.92-.59-1.43-.59-.52 0-1.04.2-1.43.59L10.3 9.45l-7.72 7.72c-.78.78-.78 2.05 0 2.83L4 21.41c.39.39.9.59 1.41.59.51 0 1.02-.2 1.41-.59l7.78-7.78 2.81-2.81c.8-.78.8-2.07 0-2.86zM5.41 20L4 18.59l7.72-7.72 1.47 1.35L5.41 20z\"/>\n",
              "  </svg>\n",
              "      </button>\n",
              "      \n",
              "  <style>\n",
              "    .colab-df-container {\n",
              "      display:flex;\n",
              "      flex-wrap:wrap;\n",
              "      gap: 12px;\n",
              "    }\n",
              "\n",
              "    .colab-df-convert {\n",
              "      background-color: #E8F0FE;\n",
              "      border: none;\n",
              "      border-radius: 50%;\n",
              "      cursor: pointer;\n",
              "      display: none;\n",
              "      fill: #1967D2;\n",
              "      height: 32px;\n",
              "      padding: 0 0 0 0;\n",
              "      width: 32px;\n",
              "    }\n",
              "\n",
              "    .colab-df-convert:hover {\n",
              "      background-color: #E2EBFA;\n",
              "      box-shadow: 0px 1px 2px rgba(60, 64, 67, 0.3), 0px 1px 3px 1px rgba(60, 64, 67, 0.15);\n",
              "      fill: #174EA6;\n",
              "    }\n",
              "\n",
              "    [theme=dark] .colab-df-convert {\n",
              "      background-color: #3B4455;\n",
              "      fill: #D2E3FC;\n",
              "    }\n",
              "\n",
              "    [theme=dark] .colab-df-convert:hover {\n",
              "      background-color: #434B5C;\n",
              "      box-shadow: 0px 1px 3px 1px rgba(0, 0, 0, 0.15);\n",
              "      filter: drop-shadow(0px 1px 2px rgba(0, 0, 0, 0.3));\n",
              "      fill: #FFFFFF;\n",
              "    }\n",
              "  </style>\n",
              "\n",
              "      <script>\n",
              "        const buttonEl =\n",
              "          document.querySelector('#df-569e432a-0da7-4d34-8391-f35ab8e469ea button.colab-df-convert');\n",
              "        buttonEl.style.display =\n",
              "          google.colab.kernel.accessAllowed ? 'block' : 'none';\n",
              "\n",
              "        async function convertToInteractive(key) {\n",
              "          const element = document.querySelector('#df-569e432a-0da7-4d34-8391-f35ab8e469ea');\n",
              "          const dataTable =\n",
              "            await google.colab.kernel.invokeFunction('convertToInteractive',\n",
              "                                                     [key], {});\n",
              "          if (!dataTable) return;\n",
              "\n",
              "          const docLinkHtml = 'Like what you see? Visit the ' +\n",
              "            '<a target=\"_blank\" href=https://colab.research.google.com/notebooks/data_table.ipynb>data table notebook</a>'\n",
              "            + ' to learn more about interactive tables.';\n",
              "          element.innerHTML = '';\n",
              "          dataTable['output_type'] = 'display_data';\n",
              "          await google.colab.output.renderOutput(dataTable, element);\n",
              "          const docLink = document.createElement('div');\n",
              "          docLink.innerHTML = docLinkHtml;\n",
              "          element.appendChild(docLink);\n",
              "        }\n",
              "      </script>\n",
              "    </div>\n",
              "  </div>\n",
              "  "
            ]
          },
          "metadata": {},
          "execution_count": 18
        }
      ]
    },
    {
      "cell_type": "code",
      "source": [
        "# unique user ids in original provided file is 25 803\n",
        "data['user_id'].nunique() "
      ],
      "metadata": {
        "colab": {
          "base_uri": "https://localhost:8080/"
        },
        "id": "_k7SqOzTZYo5",
        "outputId": "52845b73-063b-4799-a99a-6c937ee91d1c"
      },
      "execution_count": 19,
      "outputs": [
        {
          "output_type": "execute_result",
          "data": {
            "text/plain": [
              "25803"
            ]
          },
          "metadata": {},
          "execution_count": 19
        }
      ]
    },
    {
      "cell_type": "code",
      "source": [
        "# number of rows in original provided file is 50 356\n",
        "len(data)"
      ],
      "metadata": {
        "colab": {
          "base_uri": "https://localhost:8080/"
        },
        "id": "MhEzsLLSMV1c",
        "outputId": "32ba439a-6728-4365-f136-36221cb97806"
      },
      "execution_count": 21,
      "outputs": [
        {
          "output_type": "execute_result",
          "data": {
            "text/plain": [
              "50356"
            ]
          },
          "metadata": {},
          "execution_count": 21
        }
      ]
    },
    {
      "cell_type": "code",
      "source": [
        "# convert to datetime types:\n",
        "data['time_event'] = pd.to_datetime(data['time_event'])\n",
        "data['time_install'] = pd.to_datetime(data['time_install'])\n",
        "\n",
        "# limit event_time by time_install, some rows and user IDs were removed\n",
        "data = data[data.time_event >= data.time_install]"
      ],
      "metadata": {
        "id": "1NGL_uinYq8T"
      },
      "execution_count": 22,
      "outputs": []
    },
    {
      "cell_type": "code",
      "source": [
        "# unique user ids in frame is 25 791\n",
        "data['user_id'].nunique() "
      ],
      "metadata": {
        "colab": {
          "base_uri": "https://localhost:8080/"
        },
        "id": "65HfTqJGNVLH",
        "outputId": "c72ef051-1110-4001-b036-a3d9b53d31e2"
      },
      "execution_count": 24,
      "outputs": [
        {
          "output_type": "execute_result",
          "data": {
            "text/plain": [
              "25791"
            ]
          },
          "metadata": {},
          "execution_count": 24
        }
      ]
    },
    {
      "cell_type": "code",
      "source": [
        "# number of rows in frame is 50 285\n",
        "len(data)"
      ],
      "metadata": {
        "colab": {
          "base_uri": "https://localhost:8080/"
        },
        "id": "ReKFf78yNlMl",
        "outputId": "39f269e1-e4d7-49d7-ec79-6c2ff8c2c3af"
      },
      "execution_count": 25,
      "outputs": [
        {
          "output_type": "execute_result",
          "data": {
            "text/plain": [
              "50285"
            ]
          },
          "metadata": {},
          "execution_count": 25
        }
      ]
    },
    {
      "cell_type": "code",
      "source": [
        "# Edit this dataframe so that installs are passed as events\n",
        "\n",
        "# Create a new DF from the data DF containing only install data\n",
        "installs = data[['user_id', 'time_install']].sort_values(\n",
        "    'time_install').drop_duplicates('user_id')\n",
        "\n",
        "# Create an install column containing dummy \"install\" events\n",
        "installs['event_name'] = 'install'\n",
        "\n",
        "# Create an event_type column to keep the information of install vs other events\n",
        "installs['event_type'] = 'install'\n",
        "\n",
        "# Rename time_install to time_event\n",
        "installs.rename(columns={'time_install': 'time_event'}, inplace=True)\n",
        "\n",
        "# In the data DF, keep only events data and create the event_type column\n",
        "\n",
        "data = data[['user_id', 'event_name',\n",
        "             'time_event']].drop_duplicates()\n",
        "data['event_type'] = 'in_app_action'\n",
        "\n",
        "# Concatenate the two DataFrames\n",
        "data = pd.concat([data, installs[data.columns]])"
      ],
      "metadata": {
        "id": "praaeOEyO6Ok"
      },
      "execution_count": 26,
      "outputs": []
    },
    {
      "cell_type": "code",
      "source": [
        "# unique user ids in frame is 25 791\n",
        "data['user_id'].nunique() "
      ],
      "metadata": {
        "colab": {
          "base_uri": "https://localhost:8080/"
        },
        "id": "cM9hR5hwOcsq",
        "outputId": "97482cf0-6080-4174-eda7-c225e51aa693"
      },
      "execution_count": 27,
      "outputs": [
        {
          "output_type": "execute_result",
          "data": {
            "text/plain": [
              "25791"
            ]
          },
          "metadata": {},
          "execution_count": 27
        }
      ]
    },
    {
      "cell_type": "code",
      "source": [
        "# number of rows in frame increased to 68 394, users with install event type were added from columns to rows\n",
        "len(data)"
      ],
      "metadata": {
        "colab": {
          "base_uri": "https://localhost:8080/"
        },
        "id": "0S_AdCakOdD3",
        "outputId": "42d98095-c473-43b6-f890-51d7c3fffe64"
      },
      "execution_count": 28,
      "outputs": [
        {
          "output_type": "execute_result",
          "data": {
            "text/plain": [
              "68394"
            ]
          },
          "metadata": {},
          "execution_count": 28
        }
      ]
    },
    {
      "cell_type": "code",
      "source": [
        "data.head()"
      ],
      "metadata": {
        "colab": {
          "base_uri": "https://localhost:8080/",
          "height": 204
        },
        "id": "gHpp1O9zhj4n",
        "outputId": "7de533a7-70c1-4e22-bbc7-207c3807592c"
      },
      "execution_count": 29,
      "outputs": [
        {
          "output_type": "execute_result",
          "data": {
            "text/plain": [
              "                                    user_id event_name  \\\n",
              "0  4c6065c9466bc68e324e316edfb0227ff7cccc6c   purchase   \n",
              "1  f3049eac4788ffd4482390f8333d7e1adbf4c5a1     signup   \n",
              "2  f3049eac4788ffd4482390f8333d7e1adbf4c5a1   purchase   \n",
              "3  9c1e35e89a374207409ad05da6d69d43f427c5f2     reopen   \n",
              "4  723fba1295b9a7c8321bbc433f87629b90660582     reopen   \n",
              "\n",
              "                     time_event     event_type  \n",
              "0 1970-01-01 00:00:00.000043892  in_app_action  \n",
              "1 1970-01-01 00:00:00.000043896  in_app_action  \n",
              "2 1970-01-01 00:00:00.000043896  in_app_action  \n",
              "3 1970-01-01 00:00:00.000043896  in_app_action  \n",
              "4 1970-01-01 00:00:00.000043893  in_app_action  "
            ],
            "text/html": [
              "\n",
              "  <div id=\"df-b61fb707-62da-46a4-8425-0a80a7eda478\">\n",
              "    <div class=\"colab-df-container\">\n",
              "      <div>\n",
              "<style scoped>\n",
              "    .dataframe tbody tr th:only-of-type {\n",
              "        vertical-align: middle;\n",
              "    }\n",
              "\n",
              "    .dataframe tbody tr th {\n",
              "        vertical-align: top;\n",
              "    }\n",
              "\n",
              "    .dataframe thead th {\n",
              "        text-align: right;\n",
              "    }\n",
              "</style>\n",
              "<table border=\"1\" class=\"dataframe\">\n",
              "  <thead>\n",
              "    <tr style=\"text-align: right;\">\n",
              "      <th></th>\n",
              "      <th>user_id</th>\n",
              "      <th>event_name</th>\n",
              "      <th>time_event</th>\n",
              "      <th>event_type</th>\n",
              "    </tr>\n",
              "  </thead>\n",
              "  <tbody>\n",
              "    <tr>\n",
              "      <th>0</th>\n",
              "      <td>4c6065c9466bc68e324e316edfb0227ff7cccc6c</td>\n",
              "      <td>purchase</td>\n",
              "      <td>1970-01-01 00:00:00.000043892</td>\n",
              "      <td>in_app_action</td>\n",
              "    </tr>\n",
              "    <tr>\n",
              "      <th>1</th>\n",
              "      <td>f3049eac4788ffd4482390f8333d7e1adbf4c5a1</td>\n",
              "      <td>signup</td>\n",
              "      <td>1970-01-01 00:00:00.000043896</td>\n",
              "      <td>in_app_action</td>\n",
              "    </tr>\n",
              "    <tr>\n",
              "      <th>2</th>\n",
              "      <td>f3049eac4788ffd4482390f8333d7e1adbf4c5a1</td>\n",
              "      <td>purchase</td>\n",
              "      <td>1970-01-01 00:00:00.000043896</td>\n",
              "      <td>in_app_action</td>\n",
              "    </tr>\n",
              "    <tr>\n",
              "      <th>3</th>\n",
              "      <td>9c1e35e89a374207409ad05da6d69d43f427c5f2</td>\n",
              "      <td>reopen</td>\n",
              "      <td>1970-01-01 00:00:00.000043896</td>\n",
              "      <td>in_app_action</td>\n",
              "    </tr>\n",
              "    <tr>\n",
              "      <th>4</th>\n",
              "      <td>723fba1295b9a7c8321bbc433f87629b90660582</td>\n",
              "      <td>reopen</td>\n",
              "      <td>1970-01-01 00:00:00.000043893</td>\n",
              "      <td>in_app_action</td>\n",
              "    </tr>\n",
              "  </tbody>\n",
              "</table>\n",
              "</div>\n",
              "      <button class=\"colab-df-convert\" onclick=\"convertToInteractive('df-b61fb707-62da-46a4-8425-0a80a7eda478')\"\n",
              "              title=\"Convert this dataframe to an interactive table.\"\n",
              "              style=\"display:none;\">\n",
              "        \n",
              "  <svg xmlns=\"http://www.w3.org/2000/svg\" height=\"24px\"viewBox=\"0 0 24 24\"\n",
              "       width=\"24px\">\n",
              "    <path d=\"M0 0h24v24H0V0z\" fill=\"none\"/>\n",
              "    <path d=\"M18.56 5.44l.94 2.06.94-2.06 2.06-.94-2.06-.94-.94-2.06-.94 2.06-2.06.94zm-11 1L8.5 8.5l.94-2.06 2.06-.94-2.06-.94L8.5 2.5l-.94 2.06-2.06.94zm10 10l.94 2.06.94-2.06 2.06-.94-2.06-.94-.94-2.06-.94 2.06-2.06.94z\"/><path d=\"M17.41 7.96l-1.37-1.37c-.4-.4-.92-.59-1.43-.59-.52 0-1.04.2-1.43.59L10.3 9.45l-7.72 7.72c-.78.78-.78 2.05 0 2.83L4 21.41c.39.39.9.59 1.41.59.51 0 1.02-.2 1.41-.59l7.78-7.78 2.81-2.81c.8-.78.8-2.07 0-2.86zM5.41 20L4 18.59l7.72-7.72 1.47 1.35L5.41 20z\"/>\n",
              "  </svg>\n",
              "      </button>\n",
              "      \n",
              "  <style>\n",
              "    .colab-df-container {\n",
              "      display:flex;\n",
              "      flex-wrap:wrap;\n",
              "      gap: 12px;\n",
              "    }\n",
              "\n",
              "    .colab-df-convert {\n",
              "      background-color: #E8F0FE;\n",
              "      border: none;\n",
              "      border-radius: 50%;\n",
              "      cursor: pointer;\n",
              "      display: none;\n",
              "      fill: #1967D2;\n",
              "      height: 32px;\n",
              "      padding: 0 0 0 0;\n",
              "      width: 32px;\n",
              "    }\n",
              "\n",
              "    .colab-df-convert:hover {\n",
              "      background-color: #E2EBFA;\n",
              "      box-shadow: 0px 1px 2px rgba(60, 64, 67, 0.3), 0px 1px 3px 1px rgba(60, 64, 67, 0.15);\n",
              "      fill: #174EA6;\n",
              "    }\n",
              "\n",
              "    [theme=dark] .colab-df-convert {\n",
              "      background-color: #3B4455;\n",
              "      fill: #D2E3FC;\n",
              "    }\n",
              "\n",
              "    [theme=dark] .colab-df-convert:hover {\n",
              "      background-color: #434B5C;\n",
              "      box-shadow: 0px 1px 3px 1px rgba(0, 0, 0, 0.15);\n",
              "      filter: drop-shadow(0px 1px 2px rgba(0, 0, 0, 0.3));\n",
              "      fill: #FFFFFF;\n",
              "    }\n",
              "  </style>\n",
              "\n",
              "      <script>\n",
              "        const buttonEl =\n",
              "          document.querySelector('#df-b61fb707-62da-46a4-8425-0a80a7eda478 button.colab-df-convert');\n",
              "        buttonEl.style.display =\n",
              "          google.colab.kernel.accessAllowed ? 'block' : 'none';\n",
              "\n",
              "        async function convertToInteractive(key) {\n",
              "          const element = document.querySelector('#df-b61fb707-62da-46a4-8425-0a80a7eda478');\n",
              "          const dataTable =\n",
              "            await google.colab.kernel.invokeFunction('convertToInteractive',\n",
              "                                                     [key], {});\n",
              "          if (!dataTable) return;\n",
              "\n",
              "          const docLinkHtml = 'Like what you see? Visit the ' +\n",
              "            '<a target=\"_blank\" href=https://colab.research.google.com/notebooks/data_table.ipynb>data table notebook</a>'\n",
              "            + ' to learn more about interactive tables.';\n",
              "          element.innerHTML = '';\n",
              "          dataTable['output_type'] = 'display_data';\n",
              "          await google.colab.output.renderOutput(dataTable, element);\n",
              "          const docLink = document.createElement('div');\n",
              "          docLink.innerHTML = docLinkHtml;\n",
              "          element.appendChild(docLink);\n",
              "        }\n",
              "      </script>\n",
              "    </div>\n",
              "  </div>\n",
              "  "
            ]
          },
          "metadata": {},
          "execution_count": 29
        }
      ]
    },
    {
      "cell_type": "code",
      "source": [
        "# Based on the time of events, we can compute the rank of each action at the user_id level:\n",
        "\n",
        "# a) Sort ascendingly per user_id and time_event\n",
        "# sort by event_type to make sure installs come first\n",
        "\n",
        "data.sort_values(['user_id', 'event_type', 'time_event'],\n",
        "                 ascending=[True, False, True], inplace=True)\n",
        "\n",
        "# b) Group by user_id\n",
        "grouped = data.groupby('user_id')\n",
        "\n",
        "# c) Define a ranking function based on time_event, using the method = 'first' param to ensure no events have the same rank\n",
        "\n",
        "def rank(x): return x['time_event'].rank(method='first').astype(int)\n",
        "\n",
        "\n",
        "# d) Apply the ranking function to the data DF into a new \"rank_event\" column\n",
        "\n",
        "data[\"rank_event\"] = grouped.apply(rank).reset_index(0, drop=True)\n",
        "\n",
        "# Add, each row, the information about the next_event\n",
        "\n",
        "# a) Regroup by user_id\n",
        "\n",
        "grouped = data.groupby('user_id')\n",
        "\n",
        "# b) The shift function allows to access the next row's data. Here, we'll want the event name\n",
        "\n",
        "\n",
        "def get_next_event(x): return x['event_name'].shift(-1)\n",
        "\n",
        "\n",
        "# c) Apply the function into a new \"next_event\" column\n",
        "\n",
        "data[\"next_event\"] = grouped.apply(\n",
        "    lambda x: get_next_event(x)).reset_index(0, drop=True)"
      ],
      "metadata": {
        "id": "dPECKntLPFyW"
      },
      "execution_count": 30,
      "outputs": []
    },
    {
      "cell_type": "code",
      "source": [
        "# number of rows in frame is 68 394\n",
        "len(data)"
      ],
      "metadata": {
        "colab": {
          "base_uri": "https://localhost:8080/"
        },
        "id": "sNsTKQxOP9ZM",
        "outputId": "a9127d11-513b-449c-d34d-ae8083c5f457"
      },
      "execution_count": 31,
      "outputs": [
        {
          "output_type": "execute_result",
          "data": {
            "text/plain": [
              "68394"
            ]
          },
          "metadata": {},
          "execution_count": 31
        }
      ]
    },
    {
      "cell_type": "code",
      "source": [
        "# unique user ids in frame is 25 791\n",
        "data['user_id'].nunique() "
      ],
      "metadata": {
        "colab": {
          "base_uri": "https://localhost:8080/"
        },
        "id": "dIQJyNziQHvD",
        "outputId": "79800940-93b4-49f1-9dad-6175560eff41"
      },
      "execution_count": 32,
      "outputs": [
        {
          "output_type": "execute_result",
          "data": {
            "text/plain": [
              "25791"
            ]
          },
          "metadata": {},
          "execution_count": 32
        }
      ]
    },
    {
      "cell_type": "code",
      "source": [
        "# display the orignal column (event_type) and the new column (next_event) \n",
        "# new event_name install has been created from time_install timestamp, instead of 3 event names we have 4 \n",
        "data.head()"
      ],
      "metadata": {
        "colab": {
          "base_uri": "https://localhost:8080/",
          "height": 204
        },
        "id": "nePNXojehmVP",
        "outputId": "88d0e3e5-c268-4877-8d76-5365ea301c51"
      },
      "execution_count": 33,
      "outputs": [
        {
          "output_type": "execute_result",
          "data": {
            "text/plain": [
              "                                        user_id event_name  \\\n",
              "36344  0001e4ca097cbf23febc8fa9f0836e7d92fadb1a    install   \n",
              "36344  0001e4ca097cbf23febc8fa9f0836e7d92fadb1a     signup   \n",
              "37585  000332c9fcf184c67347e57f19789f30cf3784d6    install   \n",
              "37585  000332c9fcf184c67347e57f19789f30cf3784d6     signup   \n",
              "37586  000332c9fcf184c67347e57f19789f30cf3784d6     reopen   \n",
              "\n",
              "                         time_event     event_type  rank_event next_event  \n",
              "36344 1970-01-01 00:00:00.000043895        install           1     signup  \n",
              "36344 1970-01-01 00:00:00.000043895  in_app_action           2        NaN  \n",
              "37585 1970-01-01 00:00:00.000043892        install           1     signup  \n",
              "37585 1970-01-01 00:00:00.000043892  in_app_action           2     reopen  \n",
              "37586 1970-01-01 00:00:00.000043894  in_app_action           3        NaN  "
            ],
            "text/html": [
              "\n",
              "  <div id=\"df-c8d2a26c-55e6-4dab-95c4-8782541e343d\">\n",
              "    <div class=\"colab-df-container\">\n",
              "      <div>\n",
              "<style scoped>\n",
              "    .dataframe tbody tr th:only-of-type {\n",
              "        vertical-align: middle;\n",
              "    }\n",
              "\n",
              "    .dataframe tbody tr th {\n",
              "        vertical-align: top;\n",
              "    }\n",
              "\n",
              "    .dataframe thead th {\n",
              "        text-align: right;\n",
              "    }\n",
              "</style>\n",
              "<table border=\"1\" class=\"dataframe\">\n",
              "  <thead>\n",
              "    <tr style=\"text-align: right;\">\n",
              "      <th></th>\n",
              "      <th>user_id</th>\n",
              "      <th>event_name</th>\n",
              "      <th>time_event</th>\n",
              "      <th>event_type</th>\n",
              "      <th>rank_event</th>\n",
              "      <th>next_event</th>\n",
              "    </tr>\n",
              "  </thead>\n",
              "  <tbody>\n",
              "    <tr>\n",
              "      <th>36344</th>\n",
              "      <td>0001e4ca097cbf23febc8fa9f0836e7d92fadb1a</td>\n",
              "      <td>install</td>\n",
              "      <td>1970-01-01 00:00:00.000043895</td>\n",
              "      <td>install</td>\n",
              "      <td>1</td>\n",
              "      <td>signup</td>\n",
              "    </tr>\n",
              "    <tr>\n",
              "      <th>36344</th>\n",
              "      <td>0001e4ca097cbf23febc8fa9f0836e7d92fadb1a</td>\n",
              "      <td>signup</td>\n",
              "      <td>1970-01-01 00:00:00.000043895</td>\n",
              "      <td>in_app_action</td>\n",
              "      <td>2</td>\n",
              "      <td>NaN</td>\n",
              "    </tr>\n",
              "    <tr>\n",
              "      <th>37585</th>\n",
              "      <td>000332c9fcf184c67347e57f19789f30cf3784d6</td>\n",
              "      <td>install</td>\n",
              "      <td>1970-01-01 00:00:00.000043892</td>\n",
              "      <td>install</td>\n",
              "      <td>1</td>\n",
              "      <td>signup</td>\n",
              "    </tr>\n",
              "    <tr>\n",
              "      <th>37585</th>\n",
              "      <td>000332c9fcf184c67347e57f19789f30cf3784d6</td>\n",
              "      <td>signup</td>\n",
              "      <td>1970-01-01 00:00:00.000043892</td>\n",
              "      <td>in_app_action</td>\n",
              "      <td>2</td>\n",
              "      <td>reopen</td>\n",
              "    </tr>\n",
              "    <tr>\n",
              "      <th>37586</th>\n",
              "      <td>000332c9fcf184c67347e57f19789f30cf3784d6</td>\n",
              "      <td>reopen</td>\n",
              "      <td>1970-01-01 00:00:00.000043894</td>\n",
              "      <td>in_app_action</td>\n",
              "      <td>3</td>\n",
              "      <td>NaN</td>\n",
              "    </tr>\n",
              "  </tbody>\n",
              "</table>\n",
              "</div>\n",
              "      <button class=\"colab-df-convert\" onclick=\"convertToInteractive('df-c8d2a26c-55e6-4dab-95c4-8782541e343d')\"\n",
              "              title=\"Convert this dataframe to an interactive table.\"\n",
              "              style=\"display:none;\">\n",
              "        \n",
              "  <svg xmlns=\"http://www.w3.org/2000/svg\" height=\"24px\"viewBox=\"0 0 24 24\"\n",
              "       width=\"24px\">\n",
              "    <path d=\"M0 0h24v24H0V0z\" fill=\"none\"/>\n",
              "    <path d=\"M18.56 5.44l.94 2.06.94-2.06 2.06-.94-2.06-.94-.94-2.06-.94 2.06-2.06.94zm-11 1L8.5 8.5l.94-2.06 2.06-.94-2.06-.94L8.5 2.5l-.94 2.06-2.06.94zm10 10l.94 2.06.94-2.06 2.06-.94-2.06-.94-.94-2.06-.94 2.06-2.06.94z\"/><path d=\"M17.41 7.96l-1.37-1.37c-.4-.4-.92-.59-1.43-.59-.52 0-1.04.2-1.43.59L10.3 9.45l-7.72 7.72c-.78.78-.78 2.05 0 2.83L4 21.41c.39.39.9.59 1.41.59.51 0 1.02-.2 1.41-.59l7.78-7.78 2.81-2.81c.8-.78.8-2.07 0-2.86zM5.41 20L4 18.59l7.72-7.72 1.47 1.35L5.41 20z\"/>\n",
              "  </svg>\n",
              "      </button>\n",
              "      \n",
              "  <style>\n",
              "    .colab-df-container {\n",
              "      display:flex;\n",
              "      flex-wrap:wrap;\n",
              "      gap: 12px;\n",
              "    }\n",
              "\n",
              "    .colab-df-convert {\n",
              "      background-color: #E8F0FE;\n",
              "      border: none;\n",
              "      border-radius: 50%;\n",
              "      cursor: pointer;\n",
              "      display: none;\n",
              "      fill: #1967D2;\n",
              "      height: 32px;\n",
              "      padding: 0 0 0 0;\n",
              "      width: 32px;\n",
              "    }\n",
              "\n",
              "    .colab-df-convert:hover {\n",
              "      background-color: #E2EBFA;\n",
              "      box-shadow: 0px 1px 2px rgba(60, 64, 67, 0.3), 0px 1px 3px 1px rgba(60, 64, 67, 0.15);\n",
              "      fill: #174EA6;\n",
              "    }\n",
              "\n",
              "    [theme=dark] .colab-df-convert {\n",
              "      background-color: #3B4455;\n",
              "      fill: #D2E3FC;\n",
              "    }\n",
              "\n",
              "    [theme=dark] .colab-df-convert:hover {\n",
              "      background-color: #434B5C;\n",
              "      box-shadow: 0px 1px 3px 1px rgba(0, 0, 0, 0.15);\n",
              "      filter: drop-shadow(0px 1px 2px rgba(0, 0, 0, 0.3));\n",
              "      fill: #FFFFFF;\n",
              "    }\n",
              "  </style>\n",
              "\n",
              "      <script>\n",
              "        const buttonEl =\n",
              "          document.querySelector('#df-c8d2a26c-55e6-4dab-95c4-8782541e343d button.colab-df-convert');\n",
              "        buttonEl.style.display =\n",
              "          google.colab.kernel.accessAllowed ? 'block' : 'none';\n",
              "\n",
              "        async function convertToInteractive(key) {\n",
              "          const element = document.querySelector('#df-c8d2a26c-55e6-4dab-95c4-8782541e343d');\n",
              "          const dataTable =\n",
              "            await google.colab.kernel.invokeFunction('convertToInteractive',\n",
              "                                                     [key], {});\n",
              "          if (!dataTable) return;\n",
              "\n",
              "          const docLinkHtml = 'Like what you see? Visit the ' +\n",
              "            '<a target=\"_blank\" href=https://colab.research.google.com/notebooks/data_table.ipynb>data table notebook</a>'\n",
              "            + ' to learn more about interactive tables.';\n",
              "          element.innerHTML = '';\n",
              "          dataTable['output_type'] = 'display_data';\n",
              "          await google.colab.output.renderOutput(dataTable, element);\n",
              "          const docLink = document.createElement('div');\n",
              "          docLink.innerHTML = docLinkHtml;\n",
              "          element.appendChild(docLink);\n",
              "        }\n",
              "      </script>\n",
              "    </div>\n",
              "  </div>\n",
              "  "
            ]
          },
          "metadata": {},
          "execution_count": 33
        }
      ]
    },
    {
      "cell_type": "code",
      "source": [
        "# compute the time difference - time from each event to its next event\n",
        "\n",
        "# a) regroup by user_id\n",
        "\n",
        "grouped = data.groupby('user_id')\n",
        "\n",
        "# b) use the shift function:\n",
        "\n",
        "def get_time_diff(\n",
        "    x): return x['time_event'].shift(-1) - x['time_event']\n",
        "\n",
        "# c) crete new column  \"time_to_next\" \n",
        "\n",
        "data[\"time_to_next\"] = grouped.apply(\n",
        "    lambda x: get_time_diff(x)).reset_index(0, drop=True)"
      ],
      "metadata": {
        "id": "1hEpjBPqPLTu"
      },
      "execution_count": 34,
      "outputs": []
    },
    {
      "cell_type": "code",
      "source": [
        "# unique user ids in frame is 25 791\n",
        "data['user_id'].nunique() "
      ],
      "metadata": {
        "colab": {
          "base_uri": "https://localhost:8080/"
        },
        "id": "IxqOst2hQP53",
        "outputId": "4c533b6d-42c0-42e5-ddc3-f4406ffc034e"
      },
      "execution_count": 35,
      "outputs": [
        {
          "output_type": "execute_result",
          "data": {
            "text/plain": [
              "25791"
            ]
          },
          "metadata": {},
          "execution_count": 35
        }
      ]
    },
    {
      "cell_type": "code",
      "source": [
        "# number of rows in frame is 68 394\n",
        "len(data)"
      ],
      "metadata": {
        "colab": {
          "base_uri": "https://localhost:8080/"
        },
        "id": "R1NjKjMTQSN_",
        "outputId": "1f206941-eae5-4fe9-929c-d487fbc4ae62"
      },
      "execution_count": 36,
      "outputs": [
        {
          "output_type": "execute_result",
          "data": {
            "text/plain": [
              "68394"
            ]
          },
          "metadata": {},
          "execution_count": 36
        }
      ]
    },
    {
      "cell_type": "code",
      "source": [
        "# display the new column with time difference (time_to_next)\n",
        "data.head()"
      ],
      "metadata": {
        "colab": {
          "base_uri": "https://localhost:8080/",
          "height": 333
        },
        "id": "7y_rJe96hore",
        "outputId": "22bc9be6-364d-499f-fb58-cba7f53101fe"
      },
      "execution_count": 37,
      "outputs": [
        {
          "output_type": "execute_result",
          "data": {
            "text/plain": [
              "                                        user_id event_name  \\\n",
              "36344  0001e4ca097cbf23febc8fa9f0836e7d92fadb1a    install   \n",
              "36344  0001e4ca097cbf23febc8fa9f0836e7d92fadb1a     signup   \n",
              "37585  000332c9fcf184c67347e57f19789f30cf3784d6    install   \n",
              "37585  000332c9fcf184c67347e57f19789f30cf3784d6     signup   \n",
              "37586  000332c9fcf184c67347e57f19789f30cf3784d6     reopen   \n",
              "\n",
              "                         time_event     event_type  rank_event next_event  \\\n",
              "36344 1970-01-01 00:00:00.000043895        install           1     signup   \n",
              "36344 1970-01-01 00:00:00.000043895  in_app_action           2        NaN   \n",
              "37585 1970-01-01 00:00:00.000043892        install           1     signup   \n",
              "37585 1970-01-01 00:00:00.000043892  in_app_action           2     reopen   \n",
              "37586 1970-01-01 00:00:00.000043894  in_app_action           3        NaN   \n",
              "\n",
              "                   time_to_next  \n",
              "36344           0 days 00:00:00  \n",
              "36344                       NaT  \n",
              "37585           0 days 00:00:00  \n",
              "37585 0 days 00:00:00.000000002  \n",
              "37586                       NaT  "
            ],
            "text/html": [
              "\n",
              "  <div id=\"df-fdfe668b-c879-4585-a225-3148a5baca83\">\n",
              "    <div class=\"colab-df-container\">\n",
              "      <div>\n",
              "<style scoped>\n",
              "    .dataframe tbody tr th:only-of-type {\n",
              "        vertical-align: middle;\n",
              "    }\n",
              "\n",
              "    .dataframe tbody tr th {\n",
              "        vertical-align: top;\n",
              "    }\n",
              "\n",
              "    .dataframe thead th {\n",
              "        text-align: right;\n",
              "    }\n",
              "</style>\n",
              "<table border=\"1\" class=\"dataframe\">\n",
              "  <thead>\n",
              "    <tr style=\"text-align: right;\">\n",
              "      <th></th>\n",
              "      <th>user_id</th>\n",
              "      <th>event_name</th>\n",
              "      <th>time_event</th>\n",
              "      <th>event_type</th>\n",
              "      <th>rank_event</th>\n",
              "      <th>next_event</th>\n",
              "      <th>time_to_next</th>\n",
              "    </tr>\n",
              "  </thead>\n",
              "  <tbody>\n",
              "    <tr>\n",
              "      <th>36344</th>\n",
              "      <td>0001e4ca097cbf23febc8fa9f0836e7d92fadb1a</td>\n",
              "      <td>install</td>\n",
              "      <td>1970-01-01 00:00:00.000043895</td>\n",
              "      <td>install</td>\n",
              "      <td>1</td>\n",
              "      <td>signup</td>\n",
              "      <td>0 days 00:00:00</td>\n",
              "    </tr>\n",
              "    <tr>\n",
              "      <th>36344</th>\n",
              "      <td>0001e4ca097cbf23febc8fa9f0836e7d92fadb1a</td>\n",
              "      <td>signup</td>\n",
              "      <td>1970-01-01 00:00:00.000043895</td>\n",
              "      <td>in_app_action</td>\n",
              "      <td>2</td>\n",
              "      <td>NaN</td>\n",
              "      <td>NaT</td>\n",
              "    </tr>\n",
              "    <tr>\n",
              "      <th>37585</th>\n",
              "      <td>000332c9fcf184c67347e57f19789f30cf3784d6</td>\n",
              "      <td>install</td>\n",
              "      <td>1970-01-01 00:00:00.000043892</td>\n",
              "      <td>install</td>\n",
              "      <td>1</td>\n",
              "      <td>signup</td>\n",
              "      <td>0 days 00:00:00</td>\n",
              "    </tr>\n",
              "    <tr>\n",
              "      <th>37585</th>\n",
              "      <td>000332c9fcf184c67347e57f19789f30cf3784d6</td>\n",
              "      <td>signup</td>\n",
              "      <td>1970-01-01 00:00:00.000043892</td>\n",
              "      <td>in_app_action</td>\n",
              "      <td>2</td>\n",
              "      <td>reopen</td>\n",
              "      <td>0 days 00:00:00.000000002</td>\n",
              "    </tr>\n",
              "    <tr>\n",
              "      <th>37586</th>\n",
              "      <td>000332c9fcf184c67347e57f19789f30cf3784d6</td>\n",
              "      <td>reopen</td>\n",
              "      <td>1970-01-01 00:00:00.000043894</td>\n",
              "      <td>in_app_action</td>\n",
              "      <td>3</td>\n",
              "      <td>NaN</td>\n",
              "      <td>NaT</td>\n",
              "    </tr>\n",
              "  </tbody>\n",
              "</table>\n",
              "</div>\n",
              "      <button class=\"colab-df-convert\" onclick=\"convertToInteractive('df-fdfe668b-c879-4585-a225-3148a5baca83')\"\n",
              "              title=\"Convert this dataframe to an interactive table.\"\n",
              "              style=\"display:none;\">\n",
              "        \n",
              "  <svg xmlns=\"http://www.w3.org/2000/svg\" height=\"24px\"viewBox=\"0 0 24 24\"\n",
              "       width=\"24px\">\n",
              "    <path d=\"M0 0h24v24H0V0z\" fill=\"none\"/>\n",
              "    <path d=\"M18.56 5.44l.94 2.06.94-2.06 2.06-.94-2.06-.94-.94-2.06-.94 2.06-2.06.94zm-11 1L8.5 8.5l.94-2.06 2.06-.94-2.06-.94L8.5 2.5l-.94 2.06-2.06.94zm10 10l.94 2.06.94-2.06 2.06-.94-2.06-.94-.94-2.06-.94 2.06-2.06.94z\"/><path d=\"M17.41 7.96l-1.37-1.37c-.4-.4-.92-.59-1.43-.59-.52 0-1.04.2-1.43.59L10.3 9.45l-7.72 7.72c-.78.78-.78 2.05 0 2.83L4 21.41c.39.39.9.59 1.41.59.51 0 1.02-.2 1.41-.59l7.78-7.78 2.81-2.81c.8-.78.8-2.07 0-2.86zM5.41 20L4 18.59l7.72-7.72 1.47 1.35L5.41 20z\"/>\n",
              "  </svg>\n",
              "      </button>\n",
              "      \n",
              "  <style>\n",
              "    .colab-df-container {\n",
              "      display:flex;\n",
              "      flex-wrap:wrap;\n",
              "      gap: 12px;\n",
              "    }\n",
              "\n",
              "    .colab-df-convert {\n",
              "      background-color: #E8F0FE;\n",
              "      border: none;\n",
              "      border-radius: 50%;\n",
              "      cursor: pointer;\n",
              "      display: none;\n",
              "      fill: #1967D2;\n",
              "      height: 32px;\n",
              "      padding: 0 0 0 0;\n",
              "      width: 32px;\n",
              "    }\n",
              "\n",
              "    .colab-df-convert:hover {\n",
              "      background-color: #E2EBFA;\n",
              "      box-shadow: 0px 1px 2px rgba(60, 64, 67, 0.3), 0px 1px 3px 1px rgba(60, 64, 67, 0.15);\n",
              "      fill: #174EA6;\n",
              "    }\n",
              "\n",
              "    [theme=dark] .colab-df-convert {\n",
              "      background-color: #3B4455;\n",
              "      fill: #D2E3FC;\n",
              "    }\n",
              "\n",
              "    [theme=dark] .colab-df-convert:hover {\n",
              "      background-color: #434B5C;\n",
              "      box-shadow: 0px 1px 3px 1px rgba(0, 0, 0, 0.15);\n",
              "      filter: drop-shadow(0px 1px 2px rgba(0, 0, 0, 0.3));\n",
              "      fill: #FFFFFF;\n",
              "    }\n",
              "  </style>\n",
              "\n",
              "      <script>\n",
              "        const buttonEl =\n",
              "          document.querySelector('#df-fdfe668b-c879-4585-a225-3148a5baca83 button.colab-df-convert');\n",
              "        buttonEl.style.display =\n",
              "          google.colab.kernel.accessAllowed ? 'block' : 'none';\n",
              "\n",
              "        async function convertToInteractive(key) {\n",
              "          const element = document.querySelector('#df-fdfe668b-c879-4585-a225-3148a5baca83');\n",
              "          const dataTable =\n",
              "            await google.colab.kernel.invokeFunction('convertToInteractive',\n",
              "                                                     [key], {});\n",
              "          if (!dataTable) return;\n",
              "\n",
              "          const docLinkHtml = 'Like what you see? Visit the ' +\n",
              "            '<a target=\"_blank\" href=https://colab.research.google.com/notebooks/data_table.ipynb>data table notebook</a>'\n",
              "            + ' to learn more about interactive tables.';\n",
              "          element.innerHTML = '';\n",
              "          dataTable['output_type'] = 'display_data';\n",
              "          await google.colab.output.renderOutput(dataTable, element);\n",
              "          const docLink = document.createElement('div');\n",
              "          docLink.innerHTML = docLinkHtml;\n",
              "          element.appendChild(docLink);\n",
              "        }\n",
              "      </script>\n",
              "    </div>\n",
              "  </div>\n",
              "  "
            ]
          },
          "metadata": {},
          "execution_count": 37
        }
      ]
    },
    {
      "cell_type": "code",
      "source": [
        "# prepare data frame to plot the journey up to the 20th action. This can be achieved by filtering the dataframe based on the rank_event column that we computed:\n",
        "data = data[data.rank_event < 20]\n",
        "\n",
        "# Check that you have only installs at rank 1:\n",
        "data[data['rank_event'] == 1].event_name.unique()\n",
        "\n",
        "# Working on the nodes_dict\n",
        "\n",
        "all_events = list(data.event_name.unique())\n",
        "\n",
        "# create color hex palette for plot\n",
        "palette = ['808A87', '1E1E1E', 'EBEBEB','CDAF95', '000000', 'EEEEE0', 'FAFAFA']\n",
        "\n",
        "# convert palette from hex to rgb \n",
        "for i, col in enumerate(palette):\n",
        "    palette[i] = tuple(int(col[i:i+2], 16) for i in (0, 2, 4))\n",
        "\n",
        "# append a seaborn complementary palette \n",
        "complementary_palette = sns.color_palette(\n",
        "    \"deep\", len(all_events) - len(palette))\n",
        "if len(complementary_palette) > 0:\n",
        "    palette.extend(complementary_palette)\n",
        "\n",
        "output = dict()\n",
        "output.update({'nodes_dict': dict()})\n",
        "\n",
        "i = 0\n",
        "for rank_event in data.rank_event.unique():  # For each rank of event...\n",
        "    # Create a new key equal to the rank...\n",
        "    output['nodes_dict'].update(\n",
        "        {rank_event: dict()}\n",
        "    )\n",
        "\n",
        "    # Look at all the events that were done at this step of the funnel...\n",
        "    all_events_at_this_rank = data[data.rank_event ==\n",
        "                                   rank_event].event_name.unique()\n",
        "\n",
        "    # Read the colors for these events and store them in a list...\n",
        "    rank_palette = []\n",
        "    for event in all_events_at_this_rank:\n",
        "        rank_palette.append(palette[list(all_events).index(event)])\n",
        "\n",
        "    # Keep trace of the events names, colors and indices.\n",
        "    output['nodes_dict'][rank_event].update(\n",
        "        {\n",
        "            'sources': list(all_events_at_this_rank),\n",
        "            'color': rank_palette,\n",
        "            'sources_index': list(range(i, i+len(all_events_at_this_rank)))\n",
        "        }\n",
        "    )\n",
        "    # Finally, increment by the length of this ranks available events to make sure next indices will not be chosen from existing ones\n",
        "    i += len(output['nodes_dict'][rank_event]['sources_index'])\n",
        "\n",
        "# Working on the links_dict\n",
        "\n",
        "output.update({'links_dict': dict()})\n",
        "\n",
        "# group the DataFrame by user_id and rank_event\n",
        "\n",
        "grouped = data.groupby(['user_id', 'rank_event'])\n",
        "\n",
        "# define a function to read the sources, targets, values and time from event to next_event:\n",
        "\n",
        "def update_source_target(user):\n",
        "    try:\n",
        "        source_index = output['nodes_dict'][user.name[1]]['sources_index'][output['nodes_dict']\n",
        "                                                                           [user.name[1]]['sources'].index(user['event_name'].values[0])]\n",
        "\n",
        "        target_index = output['nodes_dict'][user.name[1] + 1]['sources_index'][output['nodes_dict']\n",
        "                                                                               [user.name[1] + 1]['sources'].index(user['next_event'].values[0])]\n",
        "\n",
        "        if source_index in output['links_dict']:\n",
        "            if target_index in output['links_dict'][source_index]:\n",
        "\n",
        "                output['links_dict'][source_index][target_index]['unique_users'] += 1\n",
        "                output['links_dict'][source_index][target_index]['avg_time_to_next'] += user['time_to_next'].values[0]\n",
        "            else:\n",
        "\n",
        "                output['links_dict'][source_index].update({target_index:\n",
        "                                                           dict(\n",
        "                                                               {'unique_users': 1,\n",
        "                                                                'avg_time_to_next': user['time_to_next'].values[0]}\n",
        "                                                           )\n",
        "                                                           })\n",
        "        else:\n",
        "\n",
        "            output['links_dict'].update({source_index: dict({target_index: dict(\n",
        "                {'unique_users': 1, 'avg_time_to_next': user['time_to_next'].values[0]})})})\n",
        "    except Exception as e:\n",
        "        pass"
      ],
      "metadata": {
        "id": "OAZi4pNLP0M8"
      },
      "execution_count": 38,
      "outputs": []
    },
    {
      "cell_type": "code",
      "source": [
        "# number of rows in frame is 68 394\n",
        "len(data)"
      ],
      "metadata": {
        "colab": {
          "base_uri": "https://localhost:8080/"
        },
        "id": "opdVCKjPQZT_",
        "outputId": "1a146304-3d63-40ce-cab0-1f77ddaf1aa8"
      },
      "execution_count": 39,
      "outputs": [
        {
          "output_type": "execute_result",
          "data": {
            "text/plain": [
              "68394"
            ]
          },
          "metadata": {},
          "execution_count": 39
        }
      ]
    },
    {
      "cell_type": "code",
      "source": [
        "# unique user ids in frame is 25 791\n",
        "data['user_id'].nunique() "
      ],
      "metadata": {
        "colab": {
          "base_uri": "https://localhost:8080/"
        },
        "id": "h6mJd3wxQabg",
        "outputId": "5f1d9983-6fb5-46da-c24d-651de3559c03"
      },
      "execution_count": 40,
      "outputs": [
        {
          "output_type": "execute_result",
          "data": {
            "text/plain": [
              "25791"
            ]
          },
          "metadata": {},
          "execution_count": 40
        }
      ]
    },
    {
      "cell_type": "code",
      "source": [
        "# see the rgb palette instead of hexadecimal\n",
        "palette"
      ],
      "metadata": {
        "colab": {
          "base_uri": "https://localhost:8080/"
        },
        "id": "QnpzevJLmKUw",
        "outputId": "0ea0bacc-035d-4fd8-9ce7-2507f6e0eef7"
      },
      "execution_count": 41,
      "outputs": [
        {
          "output_type": "execute_result",
          "data": {
            "text/plain": [
              "[(128, 138, 135),\n",
              " (30, 30, 30),\n",
              " (235, 235, 235),\n",
              " (205, 175, 149),\n",
              " (0, 0, 0),\n",
              " (238, 238, 224),\n",
              " (250, 250, 250)]"
            ]
          },
          "metadata": {},
          "execution_count": 41
        }
      ]
    },
    {
      "cell_type": "code",
      "source": [
        "# print the data frame until the 20th event step\n",
        "data.head()"
      ],
      "metadata": {
        "colab": {
          "base_uri": "https://localhost:8080/",
          "height": 333
        },
        "id": "sV3I7_i9hXSM",
        "outputId": "325f8c9e-b6b1-47ea-a0d9-5b237298adf6"
      },
      "execution_count": 42,
      "outputs": [
        {
          "output_type": "execute_result",
          "data": {
            "text/plain": [
              "                                        user_id event_name  \\\n",
              "36344  0001e4ca097cbf23febc8fa9f0836e7d92fadb1a    install   \n",
              "36344  0001e4ca097cbf23febc8fa9f0836e7d92fadb1a     signup   \n",
              "37585  000332c9fcf184c67347e57f19789f30cf3784d6    install   \n",
              "37585  000332c9fcf184c67347e57f19789f30cf3784d6     signup   \n",
              "37586  000332c9fcf184c67347e57f19789f30cf3784d6     reopen   \n",
              "\n",
              "                         time_event     event_type  rank_event next_event  \\\n",
              "36344 1970-01-01 00:00:00.000043895        install           1     signup   \n",
              "36344 1970-01-01 00:00:00.000043895  in_app_action           2        NaN   \n",
              "37585 1970-01-01 00:00:00.000043892        install           1     signup   \n",
              "37585 1970-01-01 00:00:00.000043892  in_app_action           2     reopen   \n",
              "37586 1970-01-01 00:00:00.000043894  in_app_action           3        NaN   \n",
              "\n",
              "                   time_to_next  \n",
              "36344           0 days 00:00:00  \n",
              "36344                       NaT  \n",
              "37585           0 days 00:00:00  \n",
              "37585 0 days 00:00:00.000000002  \n",
              "37586                       NaT  "
            ],
            "text/html": [
              "\n",
              "  <div id=\"df-62107529-0c0b-4132-8dfc-3bd7e4c277ff\">\n",
              "    <div class=\"colab-df-container\">\n",
              "      <div>\n",
              "<style scoped>\n",
              "    .dataframe tbody tr th:only-of-type {\n",
              "        vertical-align: middle;\n",
              "    }\n",
              "\n",
              "    .dataframe tbody tr th {\n",
              "        vertical-align: top;\n",
              "    }\n",
              "\n",
              "    .dataframe thead th {\n",
              "        text-align: right;\n",
              "    }\n",
              "</style>\n",
              "<table border=\"1\" class=\"dataframe\">\n",
              "  <thead>\n",
              "    <tr style=\"text-align: right;\">\n",
              "      <th></th>\n",
              "      <th>user_id</th>\n",
              "      <th>event_name</th>\n",
              "      <th>time_event</th>\n",
              "      <th>event_type</th>\n",
              "      <th>rank_event</th>\n",
              "      <th>next_event</th>\n",
              "      <th>time_to_next</th>\n",
              "    </tr>\n",
              "  </thead>\n",
              "  <tbody>\n",
              "    <tr>\n",
              "      <th>36344</th>\n",
              "      <td>0001e4ca097cbf23febc8fa9f0836e7d92fadb1a</td>\n",
              "      <td>install</td>\n",
              "      <td>1970-01-01 00:00:00.000043895</td>\n",
              "      <td>install</td>\n",
              "      <td>1</td>\n",
              "      <td>signup</td>\n",
              "      <td>0 days 00:00:00</td>\n",
              "    </tr>\n",
              "    <tr>\n",
              "      <th>36344</th>\n",
              "      <td>0001e4ca097cbf23febc8fa9f0836e7d92fadb1a</td>\n",
              "      <td>signup</td>\n",
              "      <td>1970-01-01 00:00:00.000043895</td>\n",
              "      <td>in_app_action</td>\n",
              "      <td>2</td>\n",
              "      <td>NaN</td>\n",
              "      <td>NaT</td>\n",
              "    </tr>\n",
              "    <tr>\n",
              "      <th>37585</th>\n",
              "      <td>000332c9fcf184c67347e57f19789f30cf3784d6</td>\n",
              "      <td>install</td>\n",
              "      <td>1970-01-01 00:00:00.000043892</td>\n",
              "      <td>install</td>\n",
              "      <td>1</td>\n",
              "      <td>signup</td>\n",
              "      <td>0 days 00:00:00</td>\n",
              "    </tr>\n",
              "    <tr>\n",
              "      <th>37585</th>\n",
              "      <td>000332c9fcf184c67347e57f19789f30cf3784d6</td>\n",
              "      <td>signup</td>\n",
              "      <td>1970-01-01 00:00:00.000043892</td>\n",
              "      <td>in_app_action</td>\n",
              "      <td>2</td>\n",
              "      <td>reopen</td>\n",
              "      <td>0 days 00:00:00.000000002</td>\n",
              "    </tr>\n",
              "    <tr>\n",
              "      <th>37586</th>\n",
              "      <td>000332c9fcf184c67347e57f19789f30cf3784d6</td>\n",
              "      <td>reopen</td>\n",
              "      <td>1970-01-01 00:00:00.000043894</td>\n",
              "      <td>in_app_action</td>\n",
              "      <td>3</td>\n",
              "      <td>NaN</td>\n",
              "      <td>NaT</td>\n",
              "    </tr>\n",
              "  </tbody>\n",
              "</table>\n",
              "</div>\n",
              "      <button class=\"colab-df-convert\" onclick=\"convertToInteractive('df-62107529-0c0b-4132-8dfc-3bd7e4c277ff')\"\n",
              "              title=\"Convert this dataframe to an interactive table.\"\n",
              "              style=\"display:none;\">\n",
              "        \n",
              "  <svg xmlns=\"http://www.w3.org/2000/svg\" height=\"24px\"viewBox=\"0 0 24 24\"\n",
              "       width=\"24px\">\n",
              "    <path d=\"M0 0h24v24H0V0z\" fill=\"none\"/>\n",
              "    <path d=\"M18.56 5.44l.94 2.06.94-2.06 2.06-.94-2.06-.94-.94-2.06-.94 2.06-2.06.94zm-11 1L8.5 8.5l.94-2.06 2.06-.94-2.06-.94L8.5 2.5l-.94 2.06-2.06.94zm10 10l.94 2.06.94-2.06 2.06-.94-2.06-.94-.94-2.06-.94 2.06-2.06.94z\"/><path d=\"M17.41 7.96l-1.37-1.37c-.4-.4-.92-.59-1.43-.59-.52 0-1.04.2-1.43.59L10.3 9.45l-7.72 7.72c-.78.78-.78 2.05 0 2.83L4 21.41c.39.39.9.59 1.41.59.51 0 1.02-.2 1.41-.59l7.78-7.78 2.81-2.81c.8-.78.8-2.07 0-2.86zM5.41 20L4 18.59l7.72-7.72 1.47 1.35L5.41 20z\"/>\n",
              "  </svg>\n",
              "      </button>\n",
              "      \n",
              "  <style>\n",
              "    .colab-df-container {\n",
              "      display:flex;\n",
              "      flex-wrap:wrap;\n",
              "      gap: 12px;\n",
              "    }\n",
              "\n",
              "    .colab-df-convert {\n",
              "      background-color: #E8F0FE;\n",
              "      border: none;\n",
              "      border-radius: 50%;\n",
              "      cursor: pointer;\n",
              "      display: none;\n",
              "      fill: #1967D2;\n",
              "      height: 32px;\n",
              "      padding: 0 0 0 0;\n",
              "      width: 32px;\n",
              "    }\n",
              "\n",
              "    .colab-df-convert:hover {\n",
              "      background-color: #E2EBFA;\n",
              "      box-shadow: 0px 1px 2px rgba(60, 64, 67, 0.3), 0px 1px 3px 1px rgba(60, 64, 67, 0.15);\n",
              "      fill: #174EA6;\n",
              "    }\n",
              "\n",
              "    [theme=dark] .colab-df-convert {\n",
              "      background-color: #3B4455;\n",
              "      fill: #D2E3FC;\n",
              "    }\n",
              "\n",
              "    [theme=dark] .colab-df-convert:hover {\n",
              "      background-color: #434B5C;\n",
              "      box-shadow: 0px 1px 3px 1px rgba(0, 0, 0, 0.15);\n",
              "      filter: drop-shadow(0px 1px 2px rgba(0, 0, 0, 0.3));\n",
              "      fill: #FFFFFF;\n",
              "    }\n",
              "  </style>\n",
              "\n",
              "      <script>\n",
              "        const buttonEl =\n",
              "          document.querySelector('#df-62107529-0c0b-4132-8dfc-3bd7e4c277ff button.colab-df-convert');\n",
              "        buttonEl.style.display =\n",
              "          google.colab.kernel.accessAllowed ? 'block' : 'none';\n",
              "\n",
              "        async function convertToInteractive(key) {\n",
              "          const element = document.querySelector('#df-62107529-0c0b-4132-8dfc-3bd7e4c277ff');\n",
              "          const dataTable =\n",
              "            await google.colab.kernel.invokeFunction('convertToInteractive',\n",
              "                                                     [key], {});\n",
              "          if (!dataTable) return;\n",
              "\n",
              "          const docLinkHtml = 'Like what you see? Visit the ' +\n",
              "            '<a target=\"_blank\" href=https://colab.research.google.com/notebooks/data_table.ipynb>data table notebook</a>'\n",
              "            + ' to learn more about interactive tables.';\n",
              "          element.innerHTML = '';\n",
              "          dataTable['output_type'] = 'display_data';\n",
              "          await google.colab.output.renderOutput(dataTable, element);\n",
              "          const docLink = document.createElement('div');\n",
              "          docLink.innerHTML = docLinkHtml;\n",
              "          element.appendChild(docLink);\n",
              "        }\n",
              "      </script>\n",
              "    </div>\n",
              "  </div>\n",
              "  "
            ]
          },
          "metadata": {},
          "execution_count": 42
        }
      ]
    },
    {
      "cell_type": "code",
      "source": [
        "# apply the function to your grouped object\n",
        "grouped.apply(lambda user: update_source_target(user))\n",
        "\n",
        "\n",
        "targets = []\n",
        "sources = []\n",
        "values = []\n",
        "time_to_next = []\n",
        "\n",
        "for source_key, source_value in output['links_dict'].items():\n",
        "    for target_key, target_value in output['links_dict'][source_key].items():\n",
        "        sources.append(source_key)\n",
        "        targets.append(target_key)\n",
        "        values.append(target_value['unique_users'])\n",
        "        time_to_next.append(str(pd.to_timedelta(\n",
        "            target_value['avg_time_to_next'] / target_value['unique_users'])).split('.')[0])  # Split to remove the milliseconds information\n",
        "\n",
        "labels = []\n",
        "colors = []\n",
        "for key, value in output['nodes_dict'].items():\n",
        "    labels = labels + list(output['nodes_dict'][key]['sources'])\n",
        "    colors = colors + list(output['nodes_dict'][key]['color'])\n",
        "\n",
        "for idx, color in enumerate(colors):\n",
        "    colors[idx] = \"rgb\" + str(color) + \"\"\n",
        "\n",
        "# plot the data until the 20th event in sankey diagram decision tree\n",
        "\n",
        "fig = go.Figure(data=[go.Sankey(\n",
        "    node=dict(\n",
        "        thickness=10, \n",
        "        line=dict(color=\"black\", width=0.5),\n",
        "        label=labels,\n",
        "        color=colors\n",
        "    ),\n",
        "    link=dict(\n",
        "        source=sources,\n",
        "        target=targets,\n",
        "        value=values,\n",
        "        label=time_to_next,\n",
        "        hovertemplate='%{value} unique users went from %{source.label} to %{target.label}.<br />' +\n",
        "        '<br />It took them %{label} in average.<extra></extra>',\n",
        "    ))])\n",
        "\n",
        "fig.update_layout(autosize=True, title_text=\"Application Events in Funnel Stream\", font=dict(size=10), plot_bgcolor='white')"
      ],
      "metadata": {
        "colab": {
          "base_uri": "https://localhost:8080/",
          "height": 542
        },
        "id": "iAKnQMVTP7Bs",
        "outputId": "af30c881-ddcf-43d6-af18-757f0f15a84a"
      },
      "execution_count": 43,
      "outputs": [
        {
          "output_type": "display_data",
          "data": {
            "text/html": [
              "<html>\n",
              "<head><meta charset=\"utf-8\" /></head>\n",
              "<body>\n",
              "    <div>            <script src=\"https://cdnjs.cloudflare.com/ajax/libs/mathjax/2.7.5/MathJax.js?config=TeX-AMS-MML_SVG\"></script><script type=\"text/javascript\">if (window.MathJax) {MathJax.Hub.Config({SVG: {font: \"STIX-Web\"}});}</script>                <script type=\"text/javascript\">window.PlotlyConfig = {MathJaxConfig: 'local'};</script>\n",
              "        <script src=\"https://cdn.plot.ly/plotly-2.8.3.min.js\"></script>                <div id=\"429a8542-baa1-40ed-a3c2-d81ed91575f8\" class=\"plotly-graph-div\" style=\"height:525px; width:100%;\"></div>            <script type=\"text/javascript\">                                    window.PLOTLYENV=window.PLOTLYENV || {};                                    if (document.getElementById(\"429a8542-baa1-40ed-a3c2-d81ed91575f8\")) {                    Plotly.newPlot(                        \"429a8542-baa1-40ed-a3c2-d81ed91575f8\",                        [{\"link\":{\"hovertemplate\":\"%{value} unique users went from %{source.label} to %{target.label}.<br /><br />It took them %{label} in average.<extra></extra>\",\"label\":[\"0 days 00:00:00\",\"0 days 00:00:00\",\"0 days 00:00:00\",\"0 days 00:00:00\",\"0 days 00:00:00\",\"0 days 00:00:00\",\"0 days 00:00:00\",\"0 days 00:00:00\",\"0 days 00:00:00\",\"0 days 00:00:00\",\"0 days 00:00:00\",\"0 days 00:00:00\",\"0 days 00:00:00\",\"0 days 00:00:00\",\"0 days 00:00:00\",\"0 days 00:00:00\",\"0 days 00:00:00\",\"0 days 00:00:00\",\"0 days 00:00:00\",\"0 days 00:00:00\",\"0 days 00:00:00\",\"0 days 00:00:00\",\"0 days 00:00:00\",\"0 days 00:00:00\",\"0 days 00:00:00\",\"0 days 00:00:00\",\"0 days 00:00:00\",\"0 days 00:00:00\",\"0 days 00:00:00\",\"0 days 00:00:00\",\"0 days 00:00:00\",\"0 days 00:00:00\",\"0 days 00:00:00\",\"0 days 00:00:00\",\"0 days 00:00:00\",\"0 days 00:00:00\",\"0 days 00:00:00\",\"0 days 00:00:00\",\"0 days 00:00:00\",\"0 days 00:00:00\",\"0 days 00:00:00\",\"0 days 00:00:00\",\"0 days 00:00:00\",\"0 days 00:00:00\",\"0 days 00:00:00\",\"0 days 00:00:00\",\"0 days 00:00:00\",\"0 days 00:00:00\"],\"source\":[0,0,0,1,1,1,2,2,2,5,5,5,6,6,6,3,3,3,4,4,4,7,7,7,10,10,8,8,8,11,11,14,14,15,15,9,9,16,16,13,13,17,17,19,12,18,18,20],\"target\":[1,2,3,4,5,6,5,6,4,7,8,9,8,7,9,5,4,6,8,7,9,10,11,12,13,14,11,10,12,14,13,15,16,17,18,10,11,18,17,15,16,19,20,21,14,19,20,22],\"value\":[12342,6703,6746,3034,2341,14,324,2674,1353,197,1049,23,830,244,2,297,1099,128,1009,395,40,381,42,4,77,137,277,502,1,130,22,40,28,6,14,15,11,12,2,44,6,1,2,1,1,1,1,1]},\"node\":{\"color\":[\"rgb(128, 138, 135)\",\"rgb(30, 30, 30)\",\"rgb(205, 175, 149)\",\"rgb(235, 235, 235)\",\"rgb(235, 235, 235)\",\"rgb(205, 175, 149)\",\"rgb(30, 30, 30)\",\"rgb(205, 175, 149)\",\"rgb(235, 235, 235)\",\"rgb(30, 30, 30)\",\"rgb(235, 235, 235)\",\"rgb(205, 175, 149)\",\"rgb(30, 30, 30)\",\"rgb(205, 175, 149)\",\"rgb(235, 235, 235)\",\"rgb(235, 235, 235)\",\"rgb(205, 175, 149)\",\"rgb(205, 175, 149)\",\"rgb(235, 235, 235)\",\"rgb(205, 175, 149)\",\"rgb(235, 235, 235)\",\"rgb(235, 235, 235)\",\"rgb(205, 175, 149)\"],\"label\":[\"install\",\"signup\",\"purchase\",\"reopen\",\"reopen\",\"purchase\",\"signup\",\"purchase\",\"reopen\",\"signup\",\"reopen\",\"purchase\",\"signup\",\"purchase\",\"reopen\",\"reopen\",\"purchase\",\"purchase\",\"reopen\",\"purchase\",\"reopen\",\"reopen\",\"purchase\"],\"line\":{\"color\":\"black\",\"width\":0.5},\"thickness\":10},\"type\":\"sankey\"}],                        {\"template\":{\"data\":{\"bar\":[{\"error_x\":{\"color\":\"#2a3f5f\"},\"error_y\":{\"color\":\"#2a3f5f\"},\"marker\":{\"line\":{\"color\":\"#E5ECF6\",\"width\":0.5},\"pattern\":{\"fillmode\":\"overlay\",\"size\":10,\"solidity\":0.2}},\"type\":\"bar\"}],\"barpolar\":[{\"marker\":{\"line\":{\"color\":\"#E5ECF6\",\"width\":0.5},\"pattern\":{\"fillmode\":\"overlay\",\"size\":10,\"solidity\":0.2}},\"type\":\"barpolar\"}],\"carpet\":[{\"aaxis\":{\"endlinecolor\":\"#2a3f5f\",\"gridcolor\":\"white\",\"linecolor\":\"white\",\"minorgridcolor\":\"white\",\"startlinecolor\":\"#2a3f5f\"},\"baxis\":{\"endlinecolor\":\"#2a3f5f\",\"gridcolor\":\"white\",\"linecolor\":\"white\",\"minorgridcolor\":\"white\",\"startlinecolor\":\"#2a3f5f\"},\"type\":\"carpet\"}],\"choropleth\":[{\"colorbar\":{\"outlinewidth\":0,\"ticks\":\"\"},\"type\":\"choropleth\"}],\"contour\":[{\"colorbar\":{\"outlinewidth\":0,\"ticks\":\"\"},\"colorscale\":[[0.0,\"#0d0887\"],[0.1111111111111111,\"#46039f\"],[0.2222222222222222,\"#7201a8\"],[0.3333333333333333,\"#9c179e\"],[0.4444444444444444,\"#bd3786\"],[0.5555555555555556,\"#d8576b\"],[0.6666666666666666,\"#ed7953\"],[0.7777777777777778,\"#fb9f3a\"],[0.8888888888888888,\"#fdca26\"],[1.0,\"#f0f921\"]],\"type\":\"contour\"}],\"contourcarpet\":[{\"colorbar\":{\"outlinewidth\":0,\"ticks\":\"\"},\"type\":\"contourcarpet\"}],\"heatmap\":[{\"colorbar\":{\"outlinewidth\":0,\"ticks\":\"\"},\"colorscale\":[[0.0,\"#0d0887\"],[0.1111111111111111,\"#46039f\"],[0.2222222222222222,\"#7201a8\"],[0.3333333333333333,\"#9c179e\"],[0.4444444444444444,\"#bd3786\"],[0.5555555555555556,\"#d8576b\"],[0.6666666666666666,\"#ed7953\"],[0.7777777777777778,\"#fb9f3a\"],[0.8888888888888888,\"#fdca26\"],[1.0,\"#f0f921\"]],\"type\":\"heatmap\"}],\"heatmapgl\":[{\"colorbar\":{\"outlinewidth\":0,\"ticks\":\"\"},\"colorscale\":[[0.0,\"#0d0887\"],[0.1111111111111111,\"#46039f\"],[0.2222222222222222,\"#7201a8\"],[0.3333333333333333,\"#9c179e\"],[0.4444444444444444,\"#bd3786\"],[0.5555555555555556,\"#d8576b\"],[0.6666666666666666,\"#ed7953\"],[0.7777777777777778,\"#fb9f3a\"],[0.8888888888888888,\"#fdca26\"],[1.0,\"#f0f921\"]],\"type\":\"heatmapgl\"}],\"histogram\":[{\"marker\":{\"pattern\":{\"fillmode\":\"overlay\",\"size\":10,\"solidity\":0.2}},\"type\":\"histogram\"}],\"histogram2d\":[{\"colorbar\":{\"outlinewidth\":0,\"ticks\":\"\"},\"colorscale\":[[0.0,\"#0d0887\"],[0.1111111111111111,\"#46039f\"],[0.2222222222222222,\"#7201a8\"],[0.3333333333333333,\"#9c179e\"],[0.4444444444444444,\"#bd3786\"],[0.5555555555555556,\"#d8576b\"],[0.6666666666666666,\"#ed7953\"],[0.7777777777777778,\"#fb9f3a\"],[0.8888888888888888,\"#fdca26\"],[1.0,\"#f0f921\"]],\"type\":\"histogram2d\"}],\"histogram2dcontour\":[{\"colorbar\":{\"outlinewidth\":0,\"ticks\":\"\"},\"colorscale\":[[0.0,\"#0d0887\"],[0.1111111111111111,\"#46039f\"],[0.2222222222222222,\"#7201a8\"],[0.3333333333333333,\"#9c179e\"],[0.4444444444444444,\"#bd3786\"],[0.5555555555555556,\"#d8576b\"],[0.6666666666666666,\"#ed7953\"],[0.7777777777777778,\"#fb9f3a\"],[0.8888888888888888,\"#fdca26\"],[1.0,\"#f0f921\"]],\"type\":\"histogram2dcontour\"}],\"mesh3d\":[{\"colorbar\":{\"outlinewidth\":0,\"ticks\":\"\"},\"type\":\"mesh3d\"}],\"parcoords\":[{\"line\":{\"colorbar\":{\"outlinewidth\":0,\"ticks\":\"\"}},\"type\":\"parcoords\"}],\"pie\":[{\"automargin\":true,\"type\":\"pie\"}],\"scatter\":[{\"marker\":{\"colorbar\":{\"outlinewidth\":0,\"ticks\":\"\"}},\"type\":\"scatter\"}],\"scatter3d\":[{\"line\":{\"colorbar\":{\"outlinewidth\":0,\"ticks\":\"\"}},\"marker\":{\"colorbar\":{\"outlinewidth\":0,\"ticks\":\"\"}},\"type\":\"scatter3d\"}],\"scattercarpet\":[{\"marker\":{\"colorbar\":{\"outlinewidth\":0,\"ticks\":\"\"}},\"type\":\"scattercarpet\"}],\"scattergeo\":[{\"marker\":{\"colorbar\":{\"outlinewidth\":0,\"ticks\":\"\"}},\"type\":\"scattergeo\"}],\"scattergl\":[{\"marker\":{\"colorbar\":{\"outlinewidth\":0,\"ticks\":\"\"}},\"type\":\"scattergl\"}],\"scattermapbox\":[{\"marker\":{\"colorbar\":{\"outlinewidth\":0,\"ticks\":\"\"}},\"type\":\"scattermapbox\"}],\"scatterpolar\":[{\"marker\":{\"colorbar\":{\"outlinewidth\":0,\"ticks\":\"\"}},\"type\":\"scatterpolar\"}],\"scatterpolargl\":[{\"marker\":{\"colorbar\":{\"outlinewidth\":0,\"ticks\":\"\"}},\"type\":\"scatterpolargl\"}],\"scatterternary\":[{\"marker\":{\"colorbar\":{\"outlinewidth\":0,\"ticks\":\"\"}},\"type\":\"scatterternary\"}],\"surface\":[{\"colorbar\":{\"outlinewidth\":0,\"ticks\":\"\"},\"colorscale\":[[0.0,\"#0d0887\"],[0.1111111111111111,\"#46039f\"],[0.2222222222222222,\"#7201a8\"],[0.3333333333333333,\"#9c179e\"],[0.4444444444444444,\"#bd3786\"],[0.5555555555555556,\"#d8576b\"],[0.6666666666666666,\"#ed7953\"],[0.7777777777777778,\"#fb9f3a\"],[0.8888888888888888,\"#fdca26\"],[1.0,\"#f0f921\"]],\"type\":\"surface\"}],\"table\":[{\"cells\":{\"fill\":{\"color\":\"#EBF0F8\"},\"line\":{\"color\":\"white\"}},\"header\":{\"fill\":{\"color\":\"#C8D4E3\"},\"line\":{\"color\":\"white\"}},\"type\":\"table\"}]},\"layout\":{\"annotationdefaults\":{\"arrowcolor\":\"#2a3f5f\",\"arrowhead\":0,\"arrowwidth\":1},\"autotypenumbers\":\"strict\",\"coloraxis\":{\"colorbar\":{\"outlinewidth\":0,\"ticks\":\"\"}},\"colorscale\":{\"diverging\":[[0,\"#8e0152\"],[0.1,\"#c51b7d\"],[0.2,\"#de77ae\"],[0.3,\"#f1b6da\"],[0.4,\"#fde0ef\"],[0.5,\"#f7f7f7\"],[0.6,\"#e6f5d0\"],[0.7,\"#b8e186\"],[0.8,\"#7fbc41\"],[0.9,\"#4d9221\"],[1,\"#276419\"]],\"sequential\":[[0.0,\"#0d0887\"],[0.1111111111111111,\"#46039f\"],[0.2222222222222222,\"#7201a8\"],[0.3333333333333333,\"#9c179e\"],[0.4444444444444444,\"#bd3786\"],[0.5555555555555556,\"#d8576b\"],[0.6666666666666666,\"#ed7953\"],[0.7777777777777778,\"#fb9f3a\"],[0.8888888888888888,\"#fdca26\"],[1.0,\"#f0f921\"]],\"sequentialminus\":[[0.0,\"#0d0887\"],[0.1111111111111111,\"#46039f\"],[0.2222222222222222,\"#7201a8\"],[0.3333333333333333,\"#9c179e\"],[0.4444444444444444,\"#bd3786\"],[0.5555555555555556,\"#d8576b\"],[0.6666666666666666,\"#ed7953\"],[0.7777777777777778,\"#fb9f3a\"],[0.8888888888888888,\"#fdca26\"],[1.0,\"#f0f921\"]]},\"colorway\":[\"#636efa\",\"#EF553B\",\"#00cc96\",\"#ab63fa\",\"#FFA15A\",\"#19d3f3\",\"#FF6692\",\"#B6E880\",\"#FF97FF\",\"#FECB52\"],\"font\":{\"color\":\"#2a3f5f\"},\"geo\":{\"bgcolor\":\"white\",\"lakecolor\":\"white\",\"landcolor\":\"#E5ECF6\",\"showlakes\":true,\"showland\":true,\"subunitcolor\":\"white\"},\"hoverlabel\":{\"align\":\"left\"},\"hovermode\":\"closest\",\"mapbox\":{\"style\":\"light\"},\"paper_bgcolor\":\"white\",\"plot_bgcolor\":\"#E5ECF6\",\"polar\":{\"angularaxis\":{\"gridcolor\":\"white\",\"linecolor\":\"white\",\"ticks\":\"\"},\"bgcolor\":\"#E5ECF6\",\"radialaxis\":{\"gridcolor\":\"white\",\"linecolor\":\"white\",\"ticks\":\"\"}},\"scene\":{\"xaxis\":{\"backgroundcolor\":\"#E5ECF6\",\"gridcolor\":\"white\",\"gridwidth\":2,\"linecolor\":\"white\",\"showbackground\":true,\"ticks\":\"\",\"zerolinecolor\":\"white\"},\"yaxis\":{\"backgroundcolor\":\"#E5ECF6\",\"gridcolor\":\"white\",\"gridwidth\":2,\"linecolor\":\"white\",\"showbackground\":true,\"ticks\":\"\",\"zerolinecolor\":\"white\"},\"zaxis\":{\"backgroundcolor\":\"#E5ECF6\",\"gridcolor\":\"white\",\"gridwidth\":2,\"linecolor\":\"white\",\"showbackground\":true,\"ticks\":\"\",\"zerolinecolor\":\"white\"}},\"shapedefaults\":{\"line\":{\"color\":\"#2a3f5f\"}},\"ternary\":{\"aaxis\":{\"gridcolor\":\"white\",\"linecolor\":\"white\",\"ticks\":\"\"},\"baxis\":{\"gridcolor\":\"white\",\"linecolor\":\"white\",\"ticks\":\"\"},\"bgcolor\":\"#E5ECF6\",\"caxis\":{\"gridcolor\":\"white\",\"linecolor\":\"white\",\"ticks\":\"\"}},\"title\":{\"x\":0.05},\"xaxis\":{\"automargin\":true,\"gridcolor\":\"white\",\"linecolor\":\"white\",\"ticks\":\"\",\"title\":{\"standoff\":15},\"zerolinecolor\":\"white\",\"zerolinewidth\":2},\"yaxis\":{\"automargin\":true,\"gridcolor\":\"white\",\"linecolor\":\"white\",\"ticks\":\"\",\"title\":{\"standoff\":15},\"zerolinecolor\":\"white\",\"zerolinewidth\":2}}},\"title\":{\"text\":\"Application Events in Funnel Stream\"},\"font\":{\"size\":10},\"autosize\":true,\"plot_bgcolor\":\"white\"},                        {\"responsive\": true}                    ).then(function(){\n",
              "                            \n",
              "var gd = document.getElementById('429a8542-baa1-40ed-a3c2-d81ed91575f8');\n",
              "var x = new MutationObserver(function (mutations, observer) {{\n",
              "        var display = window.getComputedStyle(gd).display;\n",
              "        if (!display || display === 'none') {{\n",
              "            console.log([gd, 'removed!']);\n",
              "            Plotly.purge(gd);\n",
              "            observer.disconnect();\n",
              "        }}\n",
              "}});\n",
              "\n",
              "// Listen for the removal of the full notebook cells\n",
              "var notebookContainer = gd.closest('#notebook-container');\n",
              "if (notebookContainer) {{\n",
              "    x.observe(notebookContainer, {childList: true});\n",
              "}}\n",
              "\n",
              "// Listen for the clearing of the current output cell\n",
              "var outputEl = gd.closest('.output');\n",
              "if (outputEl) {{\n",
              "    x.observe(outputEl, {childList: true});\n",
              "}}\n",
              "\n",
              "                        })                };                            </script>        </div>\n",
              "</body>\n",
              "</html>"
            ]
          },
          "metadata": {}
        }
      ]
    },
    {
      "cell_type": "code",
      "source": [
        "pip install kaleido"
      ],
      "metadata": {
        "colab": {
          "base_uri": "https://localhost:8080/"
        },
        "id": "x6seaGwfc0B0",
        "outputId": "f1b101b9-abd6-43c9-ce59-b2f6cd96d5db"
      },
      "execution_count": 44,
      "outputs": [
        {
          "output_type": "stream",
          "name": "stdout",
          "text": [
            "Looking in indexes: https://pypi.org/simple, https://us-python.pkg.dev/colab-wheels/public/simple/\n",
            "Collecting kaleido\n",
            "  Downloading kaleido-0.2.1-py2.py3-none-manylinux1_x86_64.whl (79.9 MB)\n",
            "\u001b[K     |████████████████████████████████| 79.9 MB 151 kB/s \n",
            "\u001b[?25hInstalling collected packages: kaleido\n",
            "Successfully installed kaleido-0.2.1\n"
          ]
        }
      ]
    },
    {
      "cell_type": "code",
      "source": [
        "import kaleido"
      ],
      "metadata": {
        "id": "VZfsfcZJc3OR"
      },
      "execution_count": 45,
      "outputs": []
    },
    {
      "cell_type": "code",
      "source": [
        "# save the tree node diagram to jpg\n",
        "from kaleido.scopes.plotly import PlotlyScope\n",
        "import plotly.graph_objects as go\n",
        "scope = PlotlyScope(\n",
        "    plotlyjs=\"https://cdn.plot.ly/plotly-latest.min.js\")\n",
        "\n",
        "\n",
        "with open(\"journey.jpg\", \"wb\") as f:\n",
        "    f.write(scope.transform(fig, format=\"jpg\"))"
      ],
      "metadata": {
        "id": "LrAa1KotdV1x"
      },
      "execution_count": 46,
      "outputs": []
    },
    {
      "cell_type": "code",
      "source": [
        "# create sankey in matplotlib"
      ],
      "metadata": {
        "id": "uwOTvYuL9Q1P"
      },
      "execution_count": 47,
      "outputs": []
    },
    {
      "cell_type": "code",
      "source": [
        "pip install sankey"
      ],
      "metadata": {
        "colab": {
          "base_uri": "https://localhost:8080/"
        },
        "id": "4aK2Xy339r_4",
        "outputId": "d3e88dd4-e9dc-4108-efc1-f47eba0e0f7b"
      },
      "execution_count": 48,
      "outputs": [
        {
          "output_type": "stream",
          "name": "stdout",
          "text": [
            "Looking in indexes: https://pypi.org/simple, https://us-python.pkg.dev/colab-wheels/public/simple/\n",
            "Collecting sankey\n",
            "  Downloading sankey-0.0.2.tar.gz (10 kB)\n",
            "Building wheels for collected packages: sankey\n",
            "  Building wheel for sankey (setup.py) ... \u001b[?25l\u001b[?25hdone\n",
            "  Created wheel for sankey: filename=sankey-0.0.2-py3-none-any.whl size=10702 sha256=e14331cab21c48c2fd86149b1dcb19ac104bd8e40e281f792158b72e58a97401\n",
            "  Stored in directory: /root/.cache/pip/wheels/7d/12/43/ba429e9b91188667b08f79274f4181ed823c91dfffe766c676\n",
            "Successfully built sankey\n",
            "Installing collected packages: sankey\n",
            "Successfully installed sankey-0.0.2\n"
          ]
        }
      ]
    },
    {
      "cell_type": "code",
      "source": [
        "pip install dash"
      ],
      "metadata": {
        "colab": {
          "base_uri": "https://localhost:8080/"
        },
        "id": "DSy5Wnen92bN",
        "outputId": "11b6898f-20da-44ac-8f2a-6555b2920cef"
      },
      "execution_count": 49,
      "outputs": [
        {
          "output_type": "stream",
          "name": "stdout",
          "text": [
            "Looking in indexes: https://pypi.org/simple, https://us-python.pkg.dev/colab-wheels/public/simple/\n",
            "Collecting dash\n",
            "  Downloading dash-2.6.2-py3-none-any.whl (9.8 MB)\n",
            "\u001b[K     |████████████████████████████████| 9.8 MB 5.3 MB/s \n",
            "\u001b[?25hCollecting dash-core-components==2.0.0\n",
            "  Downloading dash_core_components-2.0.0-py3-none-any.whl (3.8 kB)\n",
            "Collecting dash-html-components==2.0.0\n",
            "  Downloading dash_html_components-2.0.0-py3-none-any.whl (4.1 kB)\n",
            "Collecting flask-compress\n",
            "  Downloading Flask_Compress-1.13-py3-none-any.whl (7.9 kB)\n",
            "Requirement already satisfied: Flask>=1.0.4 in /usr/local/lib/python3.7/dist-packages (from dash) (1.1.4)\n",
            "Collecting dash-table==5.0.0\n",
            "  Downloading dash_table-5.0.0-py3-none-any.whl (3.9 kB)\n",
            "Requirement already satisfied: plotly>=5.0.0 in /usr/local/lib/python3.7/dist-packages (from dash) (5.5.0)\n",
            "Requirement already satisfied: Werkzeug<2.0,>=0.15 in /usr/local/lib/python3.7/dist-packages (from Flask>=1.0.4->dash) (1.0.1)\n",
            "Requirement already satisfied: click<8.0,>=5.1 in /usr/local/lib/python3.7/dist-packages (from Flask>=1.0.4->dash) (7.1.2)\n",
            "Requirement already satisfied: Jinja2<3.0,>=2.10.1 in /usr/local/lib/python3.7/dist-packages (from Flask>=1.0.4->dash) (2.11.3)\n",
            "Requirement already satisfied: itsdangerous<2.0,>=0.24 in /usr/local/lib/python3.7/dist-packages (from Flask>=1.0.4->dash) (1.1.0)\n",
            "Requirement already satisfied: MarkupSafe>=0.23 in /usr/local/lib/python3.7/dist-packages (from Jinja2<3.0,>=2.10.1->Flask>=1.0.4->dash) (2.0.1)\n",
            "Requirement already satisfied: tenacity>=6.2.0 in /usr/local/lib/python3.7/dist-packages (from plotly>=5.0.0->dash) (8.1.0)\n",
            "Requirement already satisfied: six in /usr/local/lib/python3.7/dist-packages (from plotly>=5.0.0->dash) (1.15.0)\n",
            "Collecting brotli\n",
            "  Downloading Brotli-1.0.9-cp37-cp37m-manylinux1_x86_64.whl (357 kB)\n",
            "\u001b[K     |████████████████████████████████| 357 kB 65.6 MB/s \n",
            "\u001b[?25hInstalling collected packages: brotli, flask-compress, dash-table, dash-html-components, dash-core-components, dash\n",
            "Successfully installed brotli-1.0.9 dash-2.6.2 dash-core-components-2.0.0 dash-html-components-2.0.0 dash-table-5.0.0 flask-compress-1.13\n"
          ]
        }
      ]
    },
    {
      "cell_type": "code",
      "source": [
        "import dash"
      ],
      "metadata": {
        "id": "AO3VXrTi952d"
      },
      "execution_count": 50,
      "outputs": []
    },
    {
      "cell_type": "code",
      "source": [
        "import sankey\n",
        "from sankey import *\n",
        "# Import the sankey function from the sankey module within pySankey\n",
        "from matplotlib.sankey import Sankey\n",
        "import matplotlib.pyplot as plt\n",
        "%matplotlib inline\n",
        "import pandas as pd\n",
        "pd.options.display.max_rows=8"
      ],
      "metadata": {
        "id": "iyrgnAsg9RBM"
      },
      "execution_count": 51,
      "outputs": []
    },
    {
      "cell_type": "code",
      "source": [],
      "metadata": {
        "id": "yEnd56-mGf-9"
      },
      "execution_count": null,
      "outputs": []
    },
    {
      "cell_type": "code",
      "source": [
        "df = data[['event_name', 'next_event', 'user_id']].copy()"
      ],
      "metadata": {
        "id": "fqoIQPufE0nv"
      },
      "execution_count": 52,
      "outputs": []
    },
    {
      "cell_type": "code",
      "source": [
        "df['distinct_count'] = df.groupby(['event_name'])['user_id'].transform('nunique')"
      ],
      "metadata": {
        "id": "K2Uvld7iF0mr"
      },
      "execution_count": 53,
      "outputs": []
    },
    {
      "cell_type": "code",
      "source": [
        "df1 = df.groupby('event_name')\n",
        "df2 = df1['next_event'].value_counts()"
      ],
      "metadata": {
        "id": "uuGPYdmyF8Pf"
      },
      "execution_count": 54,
      "outputs": []
    },
    {
      "cell_type": "code",
      "source": [
        "pd.set_option('display.max_rows', None)"
      ],
      "metadata": {
        "id": "AHO0_brf8s74"
      },
      "execution_count": 55,
      "outputs": []
    },
    {
      "cell_type": "code",
      "source": [
        "df2"
      ],
      "metadata": {
        "colab": {
          "base_uri": "https://localhost:8080/"
        },
        "id": "iNeAbMcnumJz",
        "outputId": "05ef0c0d-aba9-406a-e162-8b01b91e31d8"
      },
      "execution_count": 56,
      "outputs": [
        {
          "output_type": "execute_result",
          "data": {
            "text/plain": [
              "event_name  next_event\n",
              "install     signup        12342\n",
              "            reopen         6746\n",
              "            purchase       6703\n",
              "purchase    reopen         2972\n",
              "            signup         2701\n",
              "            purchase        594\n",
              "reopen      reopen         2802\n",
              "            purchase       1082\n",
              "            signup          169\n",
              "signup      reopen         3880\n",
              "            purchase       2596\n",
              "            signup           16\n",
              "Name: next_event, dtype: int64"
            ]
          },
          "metadata": {},
          "execution_count": 56
        }
      ]
    },
    {
      "cell_type": "code",
      "source": [
        "# number of rows in df frame is 68 394\n",
        "len(df)"
      ],
      "metadata": {
        "colab": {
          "base_uri": "https://localhost:8080/"
        },
        "id": "cit_HylqSRlg",
        "outputId": "4f071050-6ef1-411b-c8e1-48c06f31f4e0"
      },
      "execution_count": 58,
      "outputs": [
        {
          "output_type": "execute_result",
          "data": {
            "text/plain": [
              "68394"
            ]
          },
          "metadata": {},
          "execution_count": 58
        }
      ]
    },
    {
      "cell_type": "code",
      "source": [
        "# unique user ids in df frame is 25 791\n",
        "df['user_id'].nunique() "
      ],
      "metadata": {
        "colab": {
          "base_uri": "https://localhost:8080/"
        },
        "id": "re4t7-dNSGRg",
        "outputId": "ab7397d5-89bd-4758-bfd9-f03f09c7b346"
      },
      "execution_count": 57,
      "outputs": [
        {
          "output_type": "execute_result",
          "data": {
            "text/plain": [
              "25791"
            ]
          },
          "metadata": {},
          "execution_count": 57
        }
      ]
    },
    {
      "cell_type": "code",
      "source": [],
      "metadata": {
        "id": "JloTzefKSKpm"
      },
      "execution_count": null,
      "outputs": []
    },
    {
      "cell_type": "code",
      "source": [
        "# data\n",
        "\n",
        "label = [\"install\", \"signup\", \"reopen\", \"purchase\"]\n",
        "source = [0, 0, 0,        # install\n",
        "          1, 1, 1,        # signup\n",
        "          2, 2, 2,        # reopen\n",
        "          3, 3, 3 ]       # purchase\n",
        "\n",
        "target = [3, 2, 1, \n",
        "          3, 2, 1,\n",
        "          3, 2, 1, \n",
        "          3, 2, 1 ]\n",
        "\n",
        "value = [6703, 6746, 12342,  \n",
        "         593, 2969, 2701,\n",
        "         1080, 2801,169, \n",
        "         2596, 3880, 16]\n",
        "\n",
        "color_node = [\n",
        "'#808A87', '#808A87', '#808A87', \n",
        "'#1E1E1E', '#1E1E1E', '#1E1E1E',\n",
        "'#EBEBEB', '#EBEBEB', '#EBEBEB', \n",
        "'#CDAF95', '#CDAF95', '#CDAF95']\n",
        "\n",
        "color_link = [\n",
        "'#808A87', '#808A87', '#808A87', \n",
        "'#1E1E1E', '#1E1E1E', '#1E1E1E',\n",
        "'#EBEBEB', '#EBEBEB', '#EBEBEB', \n",
        "'#CDAF95', '#CDAF95', '#CDAF95']\n",
        "\n",
        "# data to dict, dict to sankey\n",
        "link = dict(source = source, target = target, value = value, color=color_link)\n",
        "node = dict(label = label, pad=50, thickness=5, color=color_node)\n",
        "\n",
        "data = go.Sankey(link = link, node=node)\n",
        "# plot\n",
        "fig = go.Figure(data)\n",
        "fig.update_layout(\n",
        "    hovermode = 'x',\n",
        "    title=\"Application Basic Flow\", font=dict(size=10), plot_bgcolor='white'\n",
        ")\n",
        "fig.show()\n"
      ],
      "metadata": {
        "colab": {
          "base_uri": "https://localhost:8080/",
          "height": 542
        },
        "id": "2tAUHDOViQ8S",
        "outputId": "f2ae6e41-50de-4a1a-ac3b-367e58839420"
      },
      "execution_count": 59,
      "outputs": [
        {
          "output_type": "display_data",
          "data": {
            "text/html": [
              "<html>\n",
              "<head><meta charset=\"utf-8\" /></head>\n",
              "<body>\n",
              "    <div>            <script src=\"https://cdnjs.cloudflare.com/ajax/libs/mathjax/2.7.5/MathJax.js?config=TeX-AMS-MML_SVG\"></script><script type=\"text/javascript\">if (window.MathJax) {MathJax.Hub.Config({SVG: {font: \"STIX-Web\"}});}</script>                <script type=\"text/javascript\">window.PlotlyConfig = {MathJaxConfig: 'local'};</script>\n",
              "        <script src=\"https://cdn.plot.ly/plotly-2.8.3.min.js\"></script>                <div id=\"ebfd1520-b120-491a-a011-13c5e42f94e1\" class=\"plotly-graph-div\" style=\"height:525px; width:100%;\"></div>            <script type=\"text/javascript\">                                    window.PLOTLYENV=window.PLOTLYENV || {};                                    if (document.getElementById(\"ebfd1520-b120-491a-a011-13c5e42f94e1\")) {                    Plotly.newPlot(                        \"ebfd1520-b120-491a-a011-13c5e42f94e1\",                        [{\"link\":{\"color\":[\"#808A87\",\"#808A87\",\"#808A87\",\"#1E1E1E\",\"#1E1E1E\",\"#1E1E1E\",\"#EBEBEB\",\"#EBEBEB\",\"#EBEBEB\",\"#CDAF95\",\"#CDAF95\",\"#CDAF95\"],\"source\":[0,0,0,1,1,1,2,2,2,3,3,3],\"target\":[3,2,1,3,2,1,3,2,1,3,2,1],\"value\":[6703,6746,12342,593,2969,2701,1080,2801,169,2596,3880,16]},\"node\":{\"color\":[\"#808A87\",\"#808A87\",\"#808A87\",\"#1E1E1E\",\"#1E1E1E\",\"#1E1E1E\",\"#EBEBEB\",\"#EBEBEB\",\"#EBEBEB\",\"#CDAF95\",\"#CDAF95\",\"#CDAF95\"],\"label\":[\"install\",\"signup\",\"reopen\",\"purchase\"],\"pad\":50,\"thickness\":5},\"type\":\"sankey\"}],                        {\"template\":{\"data\":{\"bar\":[{\"error_x\":{\"color\":\"#2a3f5f\"},\"error_y\":{\"color\":\"#2a3f5f\"},\"marker\":{\"line\":{\"color\":\"#E5ECF6\",\"width\":0.5},\"pattern\":{\"fillmode\":\"overlay\",\"size\":10,\"solidity\":0.2}},\"type\":\"bar\"}],\"barpolar\":[{\"marker\":{\"line\":{\"color\":\"#E5ECF6\",\"width\":0.5},\"pattern\":{\"fillmode\":\"overlay\",\"size\":10,\"solidity\":0.2}},\"type\":\"barpolar\"}],\"carpet\":[{\"aaxis\":{\"endlinecolor\":\"#2a3f5f\",\"gridcolor\":\"white\",\"linecolor\":\"white\",\"minorgridcolor\":\"white\",\"startlinecolor\":\"#2a3f5f\"},\"baxis\":{\"endlinecolor\":\"#2a3f5f\",\"gridcolor\":\"white\",\"linecolor\":\"white\",\"minorgridcolor\":\"white\",\"startlinecolor\":\"#2a3f5f\"},\"type\":\"carpet\"}],\"choropleth\":[{\"colorbar\":{\"outlinewidth\":0,\"ticks\":\"\"},\"type\":\"choropleth\"}],\"contour\":[{\"colorbar\":{\"outlinewidth\":0,\"ticks\":\"\"},\"colorscale\":[[0.0,\"#0d0887\"],[0.1111111111111111,\"#46039f\"],[0.2222222222222222,\"#7201a8\"],[0.3333333333333333,\"#9c179e\"],[0.4444444444444444,\"#bd3786\"],[0.5555555555555556,\"#d8576b\"],[0.6666666666666666,\"#ed7953\"],[0.7777777777777778,\"#fb9f3a\"],[0.8888888888888888,\"#fdca26\"],[1.0,\"#f0f921\"]],\"type\":\"contour\"}],\"contourcarpet\":[{\"colorbar\":{\"outlinewidth\":0,\"ticks\":\"\"},\"type\":\"contourcarpet\"}],\"heatmap\":[{\"colorbar\":{\"outlinewidth\":0,\"ticks\":\"\"},\"colorscale\":[[0.0,\"#0d0887\"],[0.1111111111111111,\"#46039f\"],[0.2222222222222222,\"#7201a8\"],[0.3333333333333333,\"#9c179e\"],[0.4444444444444444,\"#bd3786\"],[0.5555555555555556,\"#d8576b\"],[0.6666666666666666,\"#ed7953\"],[0.7777777777777778,\"#fb9f3a\"],[0.8888888888888888,\"#fdca26\"],[1.0,\"#f0f921\"]],\"type\":\"heatmap\"}],\"heatmapgl\":[{\"colorbar\":{\"outlinewidth\":0,\"ticks\":\"\"},\"colorscale\":[[0.0,\"#0d0887\"],[0.1111111111111111,\"#46039f\"],[0.2222222222222222,\"#7201a8\"],[0.3333333333333333,\"#9c179e\"],[0.4444444444444444,\"#bd3786\"],[0.5555555555555556,\"#d8576b\"],[0.6666666666666666,\"#ed7953\"],[0.7777777777777778,\"#fb9f3a\"],[0.8888888888888888,\"#fdca26\"],[1.0,\"#f0f921\"]],\"type\":\"heatmapgl\"}],\"histogram\":[{\"marker\":{\"pattern\":{\"fillmode\":\"overlay\",\"size\":10,\"solidity\":0.2}},\"type\":\"histogram\"}],\"histogram2d\":[{\"colorbar\":{\"outlinewidth\":0,\"ticks\":\"\"},\"colorscale\":[[0.0,\"#0d0887\"],[0.1111111111111111,\"#46039f\"],[0.2222222222222222,\"#7201a8\"],[0.3333333333333333,\"#9c179e\"],[0.4444444444444444,\"#bd3786\"],[0.5555555555555556,\"#d8576b\"],[0.6666666666666666,\"#ed7953\"],[0.7777777777777778,\"#fb9f3a\"],[0.8888888888888888,\"#fdca26\"],[1.0,\"#f0f921\"]],\"type\":\"histogram2d\"}],\"histogram2dcontour\":[{\"colorbar\":{\"outlinewidth\":0,\"ticks\":\"\"},\"colorscale\":[[0.0,\"#0d0887\"],[0.1111111111111111,\"#46039f\"],[0.2222222222222222,\"#7201a8\"],[0.3333333333333333,\"#9c179e\"],[0.4444444444444444,\"#bd3786\"],[0.5555555555555556,\"#d8576b\"],[0.6666666666666666,\"#ed7953\"],[0.7777777777777778,\"#fb9f3a\"],[0.8888888888888888,\"#fdca26\"],[1.0,\"#f0f921\"]],\"type\":\"histogram2dcontour\"}],\"mesh3d\":[{\"colorbar\":{\"outlinewidth\":0,\"ticks\":\"\"},\"type\":\"mesh3d\"}],\"parcoords\":[{\"line\":{\"colorbar\":{\"outlinewidth\":0,\"ticks\":\"\"}},\"type\":\"parcoords\"}],\"pie\":[{\"automargin\":true,\"type\":\"pie\"}],\"scatter\":[{\"marker\":{\"colorbar\":{\"outlinewidth\":0,\"ticks\":\"\"}},\"type\":\"scatter\"}],\"scatter3d\":[{\"line\":{\"colorbar\":{\"outlinewidth\":0,\"ticks\":\"\"}},\"marker\":{\"colorbar\":{\"outlinewidth\":0,\"ticks\":\"\"}},\"type\":\"scatter3d\"}],\"scattercarpet\":[{\"marker\":{\"colorbar\":{\"outlinewidth\":0,\"ticks\":\"\"}},\"type\":\"scattercarpet\"}],\"scattergeo\":[{\"marker\":{\"colorbar\":{\"outlinewidth\":0,\"ticks\":\"\"}},\"type\":\"scattergeo\"}],\"scattergl\":[{\"marker\":{\"colorbar\":{\"outlinewidth\":0,\"ticks\":\"\"}},\"type\":\"scattergl\"}],\"scattermapbox\":[{\"marker\":{\"colorbar\":{\"outlinewidth\":0,\"ticks\":\"\"}},\"type\":\"scattermapbox\"}],\"scatterpolar\":[{\"marker\":{\"colorbar\":{\"outlinewidth\":0,\"ticks\":\"\"}},\"type\":\"scatterpolar\"}],\"scatterpolargl\":[{\"marker\":{\"colorbar\":{\"outlinewidth\":0,\"ticks\":\"\"}},\"type\":\"scatterpolargl\"}],\"scatterternary\":[{\"marker\":{\"colorbar\":{\"outlinewidth\":0,\"ticks\":\"\"}},\"type\":\"scatterternary\"}],\"surface\":[{\"colorbar\":{\"outlinewidth\":0,\"ticks\":\"\"},\"colorscale\":[[0.0,\"#0d0887\"],[0.1111111111111111,\"#46039f\"],[0.2222222222222222,\"#7201a8\"],[0.3333333333333333,\"#9c179e\"],[0.4444444444444444,\"#bd3786\"],[0.5555555555555556,\"#d8576b\"],[0.6666666666666666,\"#ed7953\"],[0.7777777777777778,\"#fb9f3a\"],[0.8888888888888888,\"#fdca26\"],[1.0,\"#f0f921\"]],\"type\":\"surface\"}],\"table\":[{\"cells\":{\"fill\":{\"color\":\"#EBF0F8\"},\"line\":{\"color\":\"white\"}},\"header\":{\"fill\":{\"color\":\"#C8D4E3\"},\"line\":{\"color\":\"white\"}},\"type\":\"table\"}]},\"layout\":{\"annotationdefaults\":{\"arrowcolor\":\"#2a3f5f\",\"arrowhead\":0,\"arrowwidth\":1},\"autotypenumbers\":\"strict\",\"coloraxis\":{\"colorbar\":{\"outlinewidth\":0,\"ticks\":\"\"}},\"colorscale\":{\"diverging\":[[0,\"#8e0152\"],[0.1,\"#c51b7d\"],[0.2,\"#de77ae\"],[0.3,\"#f1b6da\"],[0.4,\"#fde0ef\"],[0.5,\"#f7f7f7\"],[0.6,\"#e6f5d0\"],[0.7,\"#b8e186\"],[0.8,\"#7fbc41\"],[0.9,\"#4d9221\"],[1,\"#276419\"]],\"sequential\":[[0.0,\"#0d0887\"],[0.1111111111111111,\"#46039f\"],[0.2222222222222222,\"#7201a8\"],[0.3333333333333333,\"#9c179e\"],[0.4444444444444444,\"#bd3786\"],[0.5555555555555556,\"#d8576b\"],[0.6666666666666666,\"#ed7953\"],[0.7777777777777778,\"#fb9f3a\"],[0.8888888888888888,\"#fdca26\"],[1.0,\"#f0f921\"]],\"sequentialminus\":[[0.0,\"#0d0887\"],[0.1111111111111111,\"#46039f\"],[0.2222222222222222,\"#7201a8\"],[0.3333333333333333,\"#9c179e\"],[0.4444444444444444,\"#bd3786\"],[0.5555555555555556,\"#d8576b\"],[0.6666666666666666,\"#ed7953\"],[0.7777777777777778,\"#fb9f3a\"],[0.8888888888888888,\"#fdca26\"],[1.0,\"#f0f921\"]]},\"colorway\":[\"#636efa\",\"#EF553B\",\"#00cc96\",\"#ab63fa\",\"#FFA15A\",\"#19d3f3\",\"#FF6692\",\"#B6E880\",\"#FF97FF\",\"#FECB52\"],\"font\":{\"color\":\"#2a3f5f\"},\"geo\":{\"bgcolor\":\"white\",\"lakecolor\":\"white\",\"landcolor\":\"#E5ECF6\",\"showlakes\":true,\"showland\":true,\"subunitcolor\":\"white\"},\"hoverlabel\":{\"align\":\"left\"},\"hovermode\":\"closest\",\"mapbox\":{\"style\":\"light\"},\"paper_bgcolor\":\"white\",\"plot_bgcolor\":\"#E5ECF6\",\"polar\":{\"angularaxis\":{\"gridcolor\":\"white\",\"linecolor\":\"white\",\"ticks\":\"\"},\"bgcolor\":\"#E5ECF6\",\"radialaxis\":{\"gridcolor\":\"white\",\"linecolor\":\"white\",\"ticks\":\"\"}},\"scene\":{\"xaxis\":{\"backgroundcolor\":\"#E5ECF6\",\"gridcolor\":\"white\",\"gridwidth\":2,\"linecolor\":\"white\",\"showbackground\":true,\"ticks\":\"\",\"zerolinecolor\":\"white\"},\"yaxis\":{\"backgroundcolor\":\"#E5ECF6\",\"gridcolor\":\"white\",\"gridwidth\":2,\"linecolor\":\"white\",\"showbackground\":true,\"ticks\":\"\",\"zerolinecolor\":\"white\"},\"zaxis\":{\"backgroundcolor\":\"#E5ECF6\",\"gridcolor\":\"white\",\"gridwidth\":2,\"linecolor\":\"white\",\"showbackground\":true,\"ticks\":\"\",\"zerolinecolor\":\"white\"}},\"shapedefaults\":{\"line\":{\"color\":\"#2a3f5f\"}},\"ternary\":{\"aaxis\":{\"gridcolor\":\"white\",\"linecolor\":\"white\",\"ticks\":\"\"},\"baxis\":{\"gridcolor\":\"white\",\"linecolor\":\"white\",\"ticks\":\"\"},\"bgcolor\":\"#E5ECF6\",\"caxis\":{\"gridcolor\":\"white\",\"linecolor\":\"white\",\"ticks\":\"\"}},\"title\":{\"x\":0.05},\"xaxis\":{\"automargin\":true,\"gridcolor\":\"white\",\"linecolor\":\"white\",\"ticks\":\"\",\"title\":{\"standoff\":15},\"zerolinecolor\":\"white\",\"zerolinewidth\":2},\"yaxis\":{\"automargin\":true,\"gridcolor\":\"white\",\"linecolor\":\"white\",\"ticks\":\"\",\"title\":{\"standoff\":15},\"zerolinecolor\":\"white\",\"zerolinewidth\":2}}},\"font\":{\"size\":10},\"hovermode\":\"x\",\"title\":{\"text\":\"Application Basic Flow\"},\"plot_bgcolor\":\"white\"},                        {\"responsive\": true}                    ).then(function(){\n",
              "                            \n",
              "var gd = document.getElementById('ebfd1520-b120-491a-a011-13c5e42f94e1');\n",
              "var x = new MutationObserver(function (mutations, observer) {{\n",
              "        var display = window.getComputedStyle(gd).display;\n",
              "        if (!display || display === 'none') {{\n",
              "            console.log([gd, 'removed!']);\n",
              "            Plotly.purge(gd);\n",
              "            observer.disconnect();\n",
              "        }}\n",
              "}});\n",
              "\n",
              "// Listen for the removal of the full notebook cells\n",
              "var notebookContainer = gd.closest('#notebook-container');\n",
              "if (notebookContainer) {{\n",
              "    x.observe(notebookContainer, {childList: true});\n",
              "}}\n",
              "\n",
              "// Listen for the clearing of the current output cell\n",
              "var outputEl = gd.closest('.output');\n",
              "if (outputEl) {{\n",
              "    x.observe(outputEl, {childList: true});\n",
              "}}\n",
              "\n",
              "                        })                };                            </script>        </div>\n",
              "</body>\n",
              "</html>"
            ]
          },
          "metadata": {}
        }
      ]
    },
    {
      "cell_type": "code",
      "source": [
        "with open(\"flow.jpg\", \"wb\") as f:\n",
        "    f.write(scope.transform(fig, format=\"jpg\"))"
      ],
      "metadata": {
        "id": "nbZ_MAU1REAM"
      },
      "execution_count": 60,
      "outputs": []
    }
  ]
}